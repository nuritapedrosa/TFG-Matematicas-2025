{
  "cells": [
    {
      "cell_type": "markdown",
      "metadata": {},
      "source": [
        "<h1 style=\"color:#2E86C1; font-size: 36px; text-align: center;\">Código fuente - TFG Matemáticas </h1>\n",
        "<h2 style=\"color:#117864; font-size: 24px; text-align: center;\">Una aproximación MILP a la optimización del trazado de redes de metro en entornos urbanos</h2>\n",
        "\n",
        "<br>\n",
        "\n",
        "<div style=\"text-align: center; font-size: 18px;\">\n",
        "  <strong>Autora:</strong> Nuria Pedrosa Ortigosa\n",
        "  <br>\n",
        "  <strong>Titulación:</strong> Doble Grado Matemáticas e Ingeniería Informática\n",
        "  <br>\n",
        "  <strong>Universidad:</strong> Universidad de Málaga (Facultad de Ciencias)\n",
        "  <br>\n",
        "  <strong>Año:</strong> 2025\n",
        "</div>\n",
        "\n",
        "<hr style=\"margin-top: 30px; margin-bottom: 30px;\">\n"
      ]
    },
    {
      "cell_type": "markdown",
      "metadata": {},
      "source": [
        "# **IMPORTACIÓN DE LIBRERÍAS** "
      ]
    },
    {
      "cell_type": "code",
      "execution_count": null,
      "metadata": {
        "id": "7tuBi5e2ZsXK"
      },
      "outputs": [],
      "source": [
        "import numpy as np\n",
        "from scipy.optimize import linprog\n",
        "from scipy.sparse import lil_matrix\n",
        "from scipy.sparse import vstack\n",
        "import matplotlib.pyplot as plt\n",
        "import re\n",
        "import pulp"
      ]
    },
    {
      "cell_type": "markdown",
      "metadata": {},
      "source": [
        "# **REPRESENTACIÓN DE LA CIUDAD** "
      ]
    },
    {
      "cell_type": "markdown",
      "metadata": {
        "id": "Dx8NTokjOylj"
      },
      "source": [
        "Recordamos que las variables principales del problema son $X_{i,j,k,l,m}$ con $(i,j,k,l) \\in Conexiones\\_validas$ y $m \\in \\{1,...,M\\}$, siendo el tablero de dimensión $N\\times N$, $M$ el número de líneas de metro a construir y $Conexiones\\_validas$ un conjunto a determinar según citerios más tarde justificados. Serán binarias y tomarán valores de la siguiente forma:\n",
        "\n",
        "$ X_{i,j,k,l,m} = \\begin{cases} 1 \\text{ si el punto } (i,j) \\text{ se conecta al punto } (k,l) \\text{ mediante la línea } m & \\\\ 0 \\text{ cc}\n",
        "  \\end{cases} $\n",
        "\n",
        "Además, con la información previa proporcionada por la distribución del tablero, podrán computarse las siguientes matrices:\n",
        "\n",
        "$ E_{i,j} = \\begin{cases} 1 \\text{ si el punto } (i,j) \\text{ es estación} & \\\\ 0 \\text{ cc}\n",
        "  \\end{cases} $\n",
        "\n",
        "$  I_{i,j} = \\begin{cases} 1 \\text{ si el punto } (i,j) \\text{ es estación de interés } & \\\\ 0 \\text{ cc}\n",
        "   \\end{cases} $\n",
        "\n",
        "$ R_{i,j} = \\begin{cases} 1 \\text{ si el punto } (i,j) \\text{ está en la mitad superior y/o izquierda del río } & \\\\ 0 \\text{ cc}\n",
        "  \\end{cases} $\n",
        "\n",
        "$ D_{i,j} = \\text{ nº de distrito del punto } (i, j) $"
      ]
    },
    {
      "cell_type": "markdown",
      "metadata": {
        "id": "SaqZUGIAlxh3"
      },
      "source": [
        "\n",
        "$ E_{i,j},  I_{i,j}, R_{i,j}, D_{i,j} $, al indicar qué puntos son estaciones, estaciones de interés, a qué lado del río se encuentran y a qué distrito pertenecen, serán propias de cada configuración del tablero. Serán computables una vez se disponga de él. Sin embargo, el resto de matrices auxiliares, al depender únicamente de las coordenadas de los puntos, sí pueden calcularse a priori."
      ]
    },
    {
      "cell_type": "markdown",
      "metadata": {},
      "source": [
        "### CONFIGURACIÓN DEL MAPA Y ELECCIÓN DE PARÁMETROS ###"
      ]
    },
    {
      "cell_type": "code",
      "execution_count": null,
      "metadata": {
        "id": "DaEdW26fPKah"
      },
      "outputs": [],
      "source": [
        "# Tamaño tablero\n",
        "N = 10\n",
        "# Número de líneas\n",
        "M = 4\n",
        "# Número de distritos\n",
        "num_distritos = 13\n",
        "# Número mínimo de distritos visitados\n",
        "min_distritos = 9\n",
        "# Número mínimo de estaciones de interés a visitar\n",
        "min_estaciones_especiales = 3\n",
        "# Longitud máxima construible de vía\n",
        "max_long = 60\n",
        "# Cantidad de estaciones visitadas por cada línea\n",
        "estaciones_por_linea = 10\n",
        "# Estación central\n",
        "estacion_central = (4, 4)\n",
        "\n",
        "\n",
        "# E(i,j) indica si el punto (i,j) es una estación de metro\n",
        "E = np.zeros((N,N), dtype = int)\n",
        "estaciones = [\n",
        "    (0, 0), (0, 1), (0, 2), (0, 4), (0, 5), (0, 7), (0, 9),\n",
        "    (1, 1), (1,3), (1,6), (1,8),(1,9),\n",
        "    (2, 0), (2, 3), (2, 6), (2, 9),\n",
        "    (3, 0), (3, 2), (3, 4), (3, 5), (3, 6), (3, 7), (3, 9),\n",
        "    (4, 1), (4, 2), (4, 4), (4, 5), (4, 8),\n",
        "    (5, 0), (5, 2), (5, 4), (5, 7),\n",
        "    (6, 3), (6, 4), (6, 6), (6, 7), (6, 9),\n",
        "    (7, 0), (7, 2), (7, 3), (7, 5), (7, 8), (7, 9),\n",
        "    (8, 1), (8, 6), (8, 8),\n",
        "    (9, 0), (9, 1), (9, 3), (9, 4), (9, 5), (9, 7), (9, 9)\n",
        "]\n",
        "for (i, j) in estaciones:\n",
        "    E[i, j] = 1\n",
        "\n",
        "\n",
        "# I(i,j) indica si el punto (i,j) es una estación de interés\n",
        "I = np.zeros((N,N), dtype = int)\n",
        "importantes = [\n",
        "    (1, 6), (3, 0), (3, 5), (6, 9), (9, 4), (0,0), (0,9), (9,0), (9,9)\n",
        "]\n",
        "for (i, j) in importantes:\n",
        "    I[i, j] = 1\n",
        "\n",
        "\n",
        "# R(i,j) indica si el punto (i,j) está en una u otra mitad del río\n",
        "# (1 si está en la mitad superior izquierda, 0 al contrario)\n",
        "R = np.zeros((N,N), dtype = int)\n",
        "for i in range(N):\n",
        "    for j in range(N):\n",
        "      if 0<=i<4:\n",
        "        R[i,j]=0\n",
        "      elif 6<=i<10:\n",
        "        R[i,j]=1\n",
        "R[4,1]=R[4,2]=R[5,0]=R[5,2]=R[5,7]=1\n",
        "\n",
        "\n",
        "# D(i,j) indica el distrito de cada punto (i,j)\n",
        "D = np.zeros((N,N), dtype = int)\n",
        "for i in range (N):\n",
        "  for j in range (N):\n",
        "    if 0<=i<3 and 0<=j<3:\n",
        "      D[i,j] = 1\n",
        "    elif 0<=i<3 and 3<=j<7:\n",
        "      D[i,j] = 2\n",
        "    elif 0<=i<3 and 7<=j<10:\n",
        "      D[i,j] = 3\n",
        "    elif 3<=i<7 and 0<=j<3:\n",
        "      D[i,j] = 4\n",
        "    elif 3<=i<7 and 3<=j<7:\n",
        "      D[i,j] = 5\n",
        "    elif 3<=i<7 and 7<=j<10:\n",
        "      D[i,j] = 6\n",
        "    elif 7<=i<10 and 0<=j<3:\n",
        "      D[i,j] = 7\n",
        "    elif 7<=i<10 and 3<=j<7:\n",
        "      D[i,j] = 8\n",
        "    elif 7<=i<10 and 7<=j<10:\n",
        "      D[i,j] = 9\n",
        "D[0,0] = 10\n",
        "D[0,9] = 11\n",
        "D[9,0] = 12\n",
        "D[9,9] = 13\n",
        "\n",
        "\n",
        "# Estaciones raíces de cada línea\n",
        "raices = []\n",
        "raices.append((1,1))\n",
        "raices.append((3,4))\n",
        "raices.append((6,7))\n",
        "raices.append((9,3))"
      ]
    },
    {
      "cell_type": "markdown",
      "metadata": {},
      "source": [
        "### DEFINICIÓN DE LOS CONJUNTOS DE CONEXIONES VÁLIDAS Y ESTACIONES ###"
      ]
    },
    {
      "cell_type": "markdown",
      "metadata": {
        "id": "tfK4s_eXPO2Y"
      },
      "source": [
        "Podemos considerar únicamente como variables las que definan segmentos válidos, y asumir que el resto no se activan. Los válidos serán los que tengan por extremos nodos que sean, en efecto, estaciones, y además estos puntos sean distintos.\n"
      ]
    },
    {
      "cell_type": "code",
      "execution_count": null,
      "metadata": {
        "id": "nQINP6I-POR8"
      },
      "outputs": [],
      "source": [
        "def conexiones_estaciones():\n",
        "    \"\"\"\n",
        "    Devuelve una lista de todas las conexiones válidas entre estaciones en la forma \n",
        "    de 4-uplas (i,j,k,l), donde (i,j) y (k,l) son coordenadas de estaciones.\n",
        "    \"\"\"\n",
        "    \n",
        "    conexiones_validas = []\n",
        "\n",
        "    for i in range(N):\n",
        "      for j in range(N):\n",
        "        for k in range(N):\n",
        "          for l in range(N):\n",
        "            if E[i,j] and E[k,l] and (i,j) != (k,l):\n",
        "              conexiones_validas.append((i,j,k,l))\n",
        "\n",
        "    return conexiones_validas\n"
      ]
    },
    {
      "cell_type": "code",
      "execution_count": null,
      "metadata": {
        "id": "M4dy8VhJQG2o",
        "outputId": "f67fb65e-98d0-4dbe-d0e0-e1847a20c173"
      },
      "outputs": [],
      "source": [
        "# Conjunto de conexiones válidas entre estaciones\n",
        "conexiones_validas = conexiones_estaciones()\n",
        "\n",
        "# Número de conexiones válidas, o sea, número de variables de decisión de tipo X\n",
        "N_val = len(conexiones_validas)\n",
        "N_val"
      ]
    },
    {
      "cell_type": "markdown",
      "metadata": {
        "id": "i0W159ANQOFR"
      },
      "source": [
        "También  será de utilidad acceder a los índices del tablero que son estaciones:"
      ]
    },
    {
      "cell_type": "code",
      "execution_count": null,
      "metadata": {
        "id": "1Dm4mT3eQXvc"
      },
      "outputs": [],
      "source": [
        "def nodos_estaciones():\n",
        "    \"\"\"\n",
        "    Devuelve una lista de todas las estaciones en la forma de 2-uplas (i,j).\n",
        "    \"\"\"\n",
        "\n",
        "    nodos_estaciones = []\n",
        "\n",
        "    for i in range(N):\n",
        "      for j in range(N):\n",
        "        if E[i,j]:\n",
        "          nodos_estaciones.append((i,j))\n",
        "\n",
        "    return nodos_estaciones\n"
      ]
    },
    {
      "cell_type": "code",
      "execution_count": null,
      "metadata": {
        "id": "aRAefObuQaNo",
        "outputId": "bfb245dc-3220-4b28-80f0-9d6aa2b350a2"
      },
      "outputs": [],
      "source": [
        "# Conjunto de estaciones\n",
        "estaciones = nodos_estaciones()\n",
        "\n",
        "# Número de estaciones\n",
        "n_estaciones = len(estaciones)\n",
        "n_estaciones"
      ]
    },
    {
      "cell_type": "markdown",
      "metadata": {},
      "source": [
        "### PRECÁLCULO DE MATRICES Y OTRAS ESTRUCTURAS ÚTILES PARA LA DEFINICIÓN DE RESTRICCIONES ###"
      ]
    },
    {
      "cell_type": "code",
      "execution_count": null,
      "metadata": {
        "id": "tExMHPLJS2_p"
      },
      "outputs": [],
      "source": [
        "def computarDIST():\n",
        "    \"\"\"\n",
        "    Devuelve una matriz de distancias euclídeas entre pares de estaciones.\n",
        "    DIST[i,j,k,l] representa distancia entre las estaciones (i,j) y (k,l).\n",
        "    \"\"\" \n",
        "\n",
        "    DIST = np.zeros((N, N, N, N))\n",
        "    for i in range(N):\n",
        "        for j in range(N):\n",
        "            for k in range(N):\n",
        "                for l in range(N):\n",
        "                    DIST[i, j, k, l] = np.sqrt((i - k)**2 + (j - l)**2)\n",
        "    return DIST"
      ]
    },
    {
      "cell_type": "code",
      "execution_count": null,
      "metadata": {
        "id": "Yj1vqc917Fd4"
      },
      "outputs": [],
      "source": [
        "DIST = computarDIST()"
      ]
    },
    {
      "cell_type": "code",
      "execution_count": null,
      "metadata": {
        "id": "aGYes3vYQWbf"
      },
      "outputs": [],
      "source": [
        "def computarH():\n",
        "    \"\"\"\n",
        "    Devuelve una matriz H de tamaño NxNxNxN, donde H[i,j,k,l] = 1 si los puntos \n",
        "    (i,j) y (k,l) están sobre la misma línea horizontal, y 0 al contrario.\n",
        "    \"\"\"\n",
        "  \n",
        "    H = np.zeros((N, N, N, N), dtype=int)\n",
        "    for i in range(N):\n",
        "        for j in range(N):\n",
        "            for k in range(i,N):\n",
        "                for l in range(N):\n",
        "                    H[i, j, k, l] = H[k, l, i, j] = int(j == l)\n",
        "    return H"
      ]
    },
    {
      "cell_type": "code",
      "execution_count": null,
      "metadata": {
        "id": "1H1qvpFORD31"
      },
      "outputs": [],
      "source": [
        "def computarV():\n",
        "    \"\"\"\n",
        "    Devuelve una matriz V de tamaño NxNxNxN, donde V[i,j,k,l] = 1 si los puntos \n",
        "    (i,j) y (k,l) están sobre la misma línea vertical, y 0 al contrario.\n",
        "    \"\"\"\n",
        "\n",
        "    V = np.zeros((N, N, N, N), dtype=int)\n",
        "    for i in range(N):\n",
        "        for j in range(N):\n",
        "            for k in range(i,N):\n",
        "                for l in range(N):\n",
        "                    V[i, j, k, l] = V[k, l, i, j] = int(i == k)\n",
        "    return V"
      ]
    },
    {
      "cell_type": "code",
      "execution_count": null,
      "metadata": {
        "id": "1P41xLnZROwT"
      },
      "outputs": [],
      "source": [
        "def computarDIAG():\n",
        "    \"\"\"\n",
        "    Devuelve una matriz DIAG de tamaño NxNxNxN, donde DIAG[i,j,k,l] = 1 si los puntos \n",
        "    (i,j) y (k,l) están sobre la misma línea diagonal, y 0 al contrario.\n",
        "    \"\"\"\n",
        "    DIAG = np.zeros((N, N, N, N), dtype=int)\n",
        "    for i in range(N):\n",
        "        for j in range(N):\n",
        "            for k in range(i,N):\n",
        "                for l in range(N):\n",
        "                    DIAG[i, j, k, l] = DIAG[k, l, i, j]  =int(abs(i - k) == abs(j - l))\n",
        "\n",
        "    return DIAG"
      ]
    },
    {
      "cell_type": "code",
      "execution_count": null,
      "metadata": {
        "id": "FeSxIU487Fd5"
      },
      "outputs": [],
      "source": [
        "H = computarH()\n",
        "V = computarV()\n",
        "DIAG = computarDIAG()"
      ]
    },
    {
      "cell_type": "code",
      "execution_count": null,
      "metadata": {
        "id": "qQwHgMRSl2A5"
      },
      "outputs": [],
      "source": [
        "def computarINTER():\n",
        "    \"\"\"\n",
        "    Devuelve una matriz INTER de tamaño NxNxNxN, donde INTER[i,j,k,l] = 1 si en la línea \n",
        "    que una los puntos (i,j) y (k,l) existe una estación intermedia, y 0 al contrario.\n",
        "    \"\"\"\n",
        "\n",
        "    INTER = np.zeros((N,N,N,N), dtype=int)\n",
        "\n",
        "    for x1 in range (N):\n",
        "      for y1 in range (N):\n",
        "        for x2 in range (x1,N): # Evitar cálculos dobles\n",
        "          for y2 in range (N):\n",
        "\n",
        "              if x1 == x2 and y1 == y2:\n",
        "                continue  # Evitar cálculos para el mismo punto\n",
        "\n",
        "              # Mismo eje x\n",
        "              elif x1 == x2:\n",
        "                  step = 1 if y1 < y2 else -1\n",
        "\n",
        "                  for j in range(y1+step,y2,step):\n",
        "                      if E[x1,j]:\n",
        "                          INTER[x1,y1,x2,y2] = 1\n",
        "                          INTER[x2,y2,x1,y1] = 1\n",
        "                          # Salimos solo de este for\n",
        "                          break\n",
        "\n",
        "              # Mismo eje y\n",
        "              elif y1 == y2:\n",
        "                  step = 1 if x1 < x2 else -1\n",
        "\n",
        "                  for i in range(x1+step,x2,step):\n",
        "                      if E[i,y1]:\n",
        "                          INTER[x1,y1,x2,y2] = 1\n",
        "                          INTER[x2,y2,x1,y1] = 1\n",
        "                          break\n",
        "\n",
        "              # En diagonal\n",
        "              elif abs(x1-x2) == abs(y1-y2):\n",
        "                  x_step = 1 if x1 < x2 else -1\n",
        "                  y_step = 1 if y1 < y2 else -1\n",
        "\n",
        "                  x,y = x1,y1\n",
        "\n",
        "                  while (x+step) != x2:\n",
        "                      x += x_step\n",
        "                      y += y_step\n",
        "\n",
        "                      # Si permanece in bounds\n",
        "                      if 0 <= x < N and 0 <= y < N:\n",
        "\n",
        "                        if E[x,y]:\n",
        "                            INTER[x1,y1,x2,y2] = 1\n",
        "                            INTER[x2,y2,x1,y1] = 1\n",
        "                            break\n",
        "                      else:\n",
        "                        break\n",
        "\n",
        "              #El resto de casos no tiene interés estudiarlos, ya que si no\n",
        "              #están en esas posiciones relativas, la restricción anterior\n",
        "              #se encargaría de rechazar\n",
        "\n",
        "    return INTER"
      ]
    },
    {
      "cell_type": "code",
      "execution_count": null,
      "metadata": {
        "id": "Ftl-fwVk7Fd5"
      },
      "outputs": [],
      "source": [
        "INTER = computarINTER()"
      ]
    },
    {
      "cell_type": "code",
      "execution_count": null,
      "metadata": {
        "id": "OZuMb6nh7Fd6"
      },
      "outputs": [],
      "source": [
        "def es_direccion_valida(dx, dy):\n",
        "    \"\"\"\n",
        "    Comprueba si la dirección (dx, dy) es válida, i.e., es horizontal, vertical o diagonal.\n",
        "    Devuelve True si lo es, y False en caso contrario.\n",
        "    \"\"\"\n",
        "    return (dx == 0 and dy != 0) or (dy == 0 and dx != 0) or (abs(dx) == abs(dy))\n",
        "\n",
        "\n",
        "\n",
        "def normaliza_direccion(dx, dy):\n",
        "    \"\"\"\n",
        "    Normaliza la dirección de un vector (dx, dy). \n",
        "    \"\"\"\n",
        "\n",
        "    if dx == 0:\n",
        "        return (0, np.sign(dy))\n",
        "    if dy == 0:\n",
        "        return (np.sign(dx), 0)\n",
        "    return (np.sign(dx), np.sign(dy))\n",
        "\n",
        "\n",
        "pares_peligrosos = [\n",
        "    # Horizontal vs vertical\n",
        "    ((1, 0), (0, 1)), ((1, 0), (0, -1)), ((-1, 0), (0, 1)), ((-1, 0), (0, -1)),\n",
        "\n",
        "    # Horizontal vs diagonales\n",
        "    ((1, 0), (1, 1)), ((1, 0), (-1, 1)), ((1, 0), (1, -1)), ((1, 0), (-1, -1)),\n",
        "    ((-1, 0), (1, 1)), ((-1, 0), (-1, 1)), ((-1, 0), (1, -1)), ((-1, 0), (-1, -1)),\n",
        "\n",
        "    # Vertical vs diagonales\n",
        "    ((0, 1), (1, 1)), ((0, 1), (-1, 1)), ((0, 1), (1, -1)), ((0, 1), (-1, -1)),\n",
        "    ((0, -1), (1, 1)), ((0, -1), (-1, 1)), ((0, -1), (1, -1)), ((0, -1), (-1, -1)),\n",
        "\n",
        "    # Diagonales perpendiculares (forman X)\n",
        "    ((1, 1), (-1, 1)), ((1, 1), (1, -1)), ((1, -1), (-1, -1)), ((-1, 1), (-1, -1))\n",
        "]\n",
        "\n",
        "\n",
        "def segmentos_secantes(i,j,k,l):\n",
        "    \"\"\"\n",
        "    Devuelve una lista de segmentos secantes al segmento de extremos (i,j) y (k,l), es decir, \n",
        "    aquellos que se cruzan con él en algún punto interior.\n",
        "    Los segmentos se devuelven en la forma de 4-uplas (p,q,r,s), donde (p,q) y (r,s) los extremos.\n",
        "    \"\"\"\n",
        "    segs_secantes = []\n",
        "\n",
        "    for p, q, r, s in conexiones_validas:\n",
        "\n",
        "        if p<i:\n",
        "            # Para evitar repeticiones de restricciones\n",
        "            continue\n",
        "\n",
        "        denominador = (k - i) * (s - q) - (l - j) * (r - p)\n",
        "        # Observación: denominador = 0 => segmentos paralelos\n",
        "\n",
        "        # Comprobación de si están en la misma línea recta\n",
        "        colineales = (q - j) * (k - i) == (l - j) * (p - i)\n",
        "\n",
        "\n",
        "        # Estudiamos el caso de segmentos colineales\n",
        "        if denominador == 0 and colineales:\n",
        "\n",
        "            # Comprobamos si los segmentos se superponen en el eje x,\n",
        "            # esto es, si las proyecciones de los puntos en el eje x se solapan\n",
        "            x_overlap = max(i, k) >= min(p, r) and min(i, k) <= max(p, r)\n",
        "\n",
        "            # Análogamente para el eje y\n",
        "            y_overlap = max(j, l) >= min(q, s) and min(j, l) <= max(q, s)\n",
        "\n",
        "            # Si ambos solapan, los segmentos se pisan en un tramo, \n",
        "            #como es el caso de la superposición parcial de (1,1)(1,3) y (1,2)(1,4)\n",
        "            if x_overlap and y_overlap:\n",
        "                segs_secantes.append((p, q, r, s))\n",
        "\n",
        "        # En cualquier otro caso, comprobamos que no sean secantes en puntos interiores.\n",
        "        # Solo son candidatos los perpendiculares (90º) y los que intersecan con (45º)\n",
        "        if denominador != 0:\n",
        "\n",
        "                dx1, dy1 = k - i, l - j\n",
        "                dx2, dy2 = r - p, s - q\n",
        "\n",
        "                if es_direccion_valida(dx1, dy1) and es_direccion_valida(dx2, dy2):\n",
        "\n",
        "                        u = normaliza_direccion(dx1, dy1)\n",
        "                        v = normaliza_direccion(dx2, dy2)\n",
        "\n",
        "                        if (u, v) in pares_peligrosos or (v, u) in pares_peligrosos:\n",
        "\n",
        "                                t_param = ((p - i) * (s - q) - (q - j) * (r - p)) / denominador\n",
        "                                s_param = ((p - i) * (l - j) - (q - j) * (k - i)) / denominador\n",
        "\n",
        "                                if 0 < t_param < 1 and 0 < s_param < 1:\n",
        "\n",
        "                                    segs_secantes.append((p, q, r, s))\n",
        "\n",
        "    return segs_secantes"
      ]
    },
    {
      "cell_type": "markdown",
      "metadata": {},
      "source": [
        "# **DEFINICIÓN FORMAL DE RESTRICCIONES** #"
      ]
    },
    {
      "cell_type": "markdown",
      "metadata": {
        "id": "LYA4ef2-SmOj"
      },
      "source": [
        "### **RESTRICCIÓN TIPO 1: Longitud de vía construible** ###\n",
        "\n",
        "Si llamamos $DIST_{i,j,k,l}$ a la distancia euclídea entre los puntos $(i,j)$ y $(k,l)$ en el plano, entonces, si $max\\_long$ es la longitud máxima construible, debe ocurrir\n",
        "\n",
        "$\\sum_{(i,j,k,l) \\in Conexiones\\_validas,m \\in \\{1,...,M\\} } DIST_{i,j,k,l,}X_{i,j,k,l,m} \\leq max\\_long$\n",
        "\n",
        "De esta forma, si dos puntos no están conectados por una línea, como $X_{i,j,k,l,m}=0$, no afectan a la suma. En caso contrario, se suma la distancia que los une.\n",
        "\n",
        "La matriz $DIST$ puede precalcularse fácilmente."
      ]
    },
    {
      "cell_type": "markdown",
      "metadata": {
        "id": "mbh1MfIAQjXJ"
      },
      "source": [
        "### **RESTRICCIÓN TIPO 2: número mínimo de estaciones de interés visitadas** ###\n",
        "\n",
        "Se definen por necesidad variables binarias adicionales, $Y_{i,j,m}$ y $Z_{i,j}$, con $(i,j) \\in Estaciones, m \\in \\{1,...,M\\}$, de modo que\n",
        "\n",
        "$ Y_{i,j,m} = \\begin{cases} 1 \\text{ si la línea } m \\text{ para en el punto } (i,j)  & \\\\ 0 \\text{ cc}\n",
        "  \\end{cases} $\n",
        "\n",
        "$ Z_{i,j} = \\begin{cases} 1 \\text{ si alguna línea para en el punto } (i,j)  & \\\\ 0 \\text{ cc}\n",
        "  \\end{cases} $\n",
        "\n",
        "\n",
        "Las relaciones necearias son:\n",
        "\n",
        "$X_{i,j,k,l,m} \\leq Y_{i,j,m} ~~~ \\forall ~(i,j,k,l) \\in Conexiones\\_validas, \\forall ~m \\in \\{1,...,M\\}$\n",
        "\n",
        "$X_{i,j,k,l,m} \\leq Y_{k,l,m} ~~~ \\forall ~(i,j,k,l) \\in Conexiones\\_validas, \\forall ~m \\in \\{1,...,M\\}$\n",
        "\n",
        "$ Y_{i,j,m} \\leq ~~~ \\sum_{(k,l) \\in Estaciones: (i,j,k,l) \\in Conexiones\\_validas} X_{i,j,k,l,m} + \\sum_{(k,l) \\in Estaciones: (k,l,i,j,m) \\in Conexiones\\_validas} X_{k,l,i,j,m}\\forall ~(i,j) \\in Estaciones, \\forall ~m \\in \\{1,...,M\\}$\n",
        "\n",
        "$Y_{i,j,m} \\leq Z_{i,j} ~~~ \\forall ~(i,j) \\in Estaciones, \\forall ~m \\in \\{1,...,M\\} $\n",
        "\n",
        "$ Z_{i,j} \\leq ~~~ \\sum_{m \\in \\{1,...,M\\} } Y_{i,j,m}\\forall ~(i,j) \\in Estaciones$\n",
        "\n",
        "Estas serán restricciones a considerar por el modelo también.\n",
        "\n",
        "Finalmente, establecemos\n",
        "\n",
        "$\\sum_{(i,j) \\in Estaciones} Z_{i,j}I_{i,j} \\geq min\\_estaciones\\_especiales$\n",
        "\n"
      ]
    },
    {
      "cell_type": "markdown",
      "metadata": {
        "id": "y3ggvFBSJ-l3"
      },
      "source": [
        "### **RESTRICCIÓN TIPO 3: número mínimo de distritos visitados** ###\n",
        "\n",
        "Para esto vamos se definen nuevas variables binarias adicionales, $W_d, d=\\{1,...,num\\_distritos\\}$:\n",
        "\n",
        "$ W_{d} = \\begin{cases} 1 \\text{ si el distrito } d \\text{ es visitado} & \\\\ 0 \\text{ cc}\n",
        "  \\end{cases} $\n",
        "\n",
        "Lo relacionaremos con el resto de variables mediante\n",
        "\n",
        "$Z_{i,j} \\leq W_{D_{i,j}}  ~~~\\forall~ (i,j) \\in Estaciones$\n",
        "\n",
        "$ W_{d} \\leq \\sum_{(i,j) \\in Estaciones : D(i,j) = d} Z_{i,j} ~~~\\forall~ d \\in\\{1,...,num\\_distritos\\}$\n",
        "\n",
        "Con esto, \n",
        "\n",
        "$ \\sum_{d=1}^{num\\_distritos}W_{d}  >= min\\_distritos $\n"
      ]
    },
    {
      "cell_type": "markdown",
      "metadata": {
        "id": "0XoLPxl1VMf-"
      },
      "source": [
        "### **RESTRICCIÓN TIPO 4: Posición relativa entre estaciones** ###\n",
        "\n",
        "Serán de utilidad nuevas matrices precalculadas\n",
        "\n",
        " $ H_{i,j,k,l} = \\begin{cases} 1 \\text{ si el punto } (i,j) \\text{ está en la misma línea horizontal que } (k,l) & \\\\ 0 \\text{ cc}\n",
        "  \\end{cases} $\n",
        "\n",
        "$ V_{i,j,k,l} = \\begin{cases} 1 \\text{ si el punto } (i,j) \\text{ está en la misma línea vertical que } (k,l) & \\\\ 0 \\text{ cc}\n",
        "  \\end{cases} $\n",
        "\n",
        "$ DIAG_{i,j,k,l} = \\begin{cases} 1 \\text{ si el punto } (i,j) \\text{ está unido a } (k,l) \\text{ por una línea diagonal} & \\\\ 0 \\text{ cc}\n",
        "  \\end{cases} $\n",
        "\n",
        "Así,\n",
        "\n",
        "$H_{i,j,k,l} + V_{i,j,k,l} + DIAG_{i,j,k,l} \\geq X_{i,j,k,l,m}~~~\\forall ~~(i,j,k,l) \\in Conexiones\\_validas,~~ \\forall~~ m \\in \\{1,...,M\\}$\n",
        "\n"
      ]
    },
    {
      "cell_type": "markdown",
      "metadata": {
        "id": "UCdntWd3OY-l"
      },
      "source": [
        "### **RESTRICCIÓN TIPO 5: estaciones intermedias** ###\n",
        "\n",
        "Generamos la matriz\n",
        "\n",
        " $ INTER_{i,j,k,l} = \\begin{cases} 1 \\text{ si entre el punto } (i,j) \\text{ y el  } (k,l) \\text{ hay una estación} & \\\\ 0 \\text{ cc}\n",
        "  \\end{cases} $\n",
        "\n",
        "para finalmente establecer\n",
        "\n",
        "$X_{i,j,k,l,m} \\leq 1 - INTER_{i,j,k,l} ~~~\\forall ~~(i,j,k,l) \\in Conexiones\\_validas,~~ \\forall~~ m \\in \\{1,...,M\\}$\n"
      ]
    },
    {
      "cell_type": "markdown",
      "metadata": {
        "id": "BhCFP-eFYBn4"
      },
      "source": [
        "### **RESTRICCIÓN TIPO 6: conexidad de las líneas** ###\n",
        "\n",
        "\n",
        "Para las estaciones ráiz de cada línea, imponemos que sean parada obligatoria\n",
        "\n",
        "  $ Y_{r_m,s_m,m} = 1 ~~ \\forall ~m \\in \\{1,...,M\\}, (r_m, s_m)$ raíz de $m$.\n",
        "\n",
        "Y además, respecto al número de estaciones de cada línea, \n",
        "\n",
        "$\\sum_{(i,j) \\in Estaciones} Y_{i,j,m} = estaciones\\_por\\_linea ~~~\\forall~ m \\in \\{1,...,M\\}$\n",
        "\n",
        "Pasamos a definir las variables de flujo\n",
        "\n",
        " $ f_{i,j,k,l,m} =$ cantidad de flujo que pasa por la arista entre las estaciones $(i,j)$ y $(k,l)$, para la línea $m$.\n",
        "\n",
        "Será necesario\n",
        "\n",
        "$ f_{i,j,k,l,m} \\leq (estaciones\\_por\\_linea -1) X_{i,j,k,l,m} ~~~\\forall ~~(i,j,k,l) \\in Conexiones\\_validas,~~ \\forall~~ m \\in \\{1,...,M\\}$\n",
        "\n",
        "De esta forma, se definen las condiciones\n",
        "\n",
        "* Para la raíz $(r_m,s_m)$ de la línea $m$:\n",
        "\n",
        "  $  \\sum_{(i,j)\\in Estaciones : (r_m,s_m,i,j) \\in Conexiones\\_validas} f_{r_m,s_m,i,j,m}  - \\sum_{(i,j)\\in Estaciones : (i,j,r_m,s_m) \\in Conexiones\\_validas} f_{i,j,r_m,s_m,m} = - estaciones\\_por\\_linea +1,  ~~ \\forall~~ m \\in \\{1,...,M\\} $\n",
        "\n",
        "\n",
        "* Para el resto de nodos $(i,j) \\neq (r_m,s_m)$:\n",
        "\n",
        "  $  \\sum_{(k,l)\\in Estaciones : (i,j,k,l) \\in Conexiones_{validas}} f_{i,j,k,l,m}  - \\sum_{(k,l)\\in Estaciones : (k,l,i,j) \\in Conexiones\\_validas} f_{k,l,i,j} =  Y_{i,j,m}, ~~ \\forall  ~(r_m,s_m)\\neq (i,j) \\in Estaciones ~~ ,\\forall ~m \\in \\{1,...,M\\} $\n",
        "\n",
        "\n",
        "\n"
      ]
    },
    {
      "cell_type": "markdown",
      "metadata": {
        "id": "i138N_4pVMyx"
      },
      "source": [
        "### **RESTRICCIÓN TIPO 7: dobles paradas** ###\n",
        "\n",
        "Se definen \n",
        " $ C_{i,j,m} =$ número de conexiones del punto $(i,j)$ en la línea $m$\n",
        "\n",
        "Matemáticamente, \n",
        "\n",
        "$C_{i,j,m} = \\sum_{(k,l) \\in Estaciones : (i,j,k,l) \\in Conexiones\\_validas}X_{i,j,k,l,m} +  \\sum_{(k,l) \\in Estaciones : (k,l,i,j) \\in Conexiones\\_validas}X_{i,j,k,l,m} ~~~\\forall ~~(i,j) \\in Estaciones,~~ \\forall~~ m \\in \\{1,...,M\\}$\n",
        "\n",
        "\n",
        " Basta establecer entonces\n",
        "\n",
        "  $ C_{i,j,m} \\leq 2 ~~~\\forall ~~(i,j) \\in Estaciones,~~ \\forall~~ m \\in \\{1,...,M\\}$\n",
        "\n"
      ]
    },
    {
      "cell_type": "markdown",
      "metadata": {
        "id": "Li2A6zSNWrc4"
      },
      "source": [
        "### **RESTRICCIÓN TIPO 8: intersecciones entre vías** ###\n",
        "\n",
        "Imponemos\n",
        "\n",
        "$X_{i,j,k,l,m} + X_{p,q,r,s,t}  \\leq 1 ~~~\\forall ~~(i,j,k,l) \\in Conexiones\\_validas, (p,q,r,s) \\in Segmentos\\_secantes\\_(i,j,k,l),~~ \\forall~~ m,t \\in \\{1,...,M\\}$\n",
        "\n"
      ]
    },
    {
      "cell_type": "markdown",
      "metadata": {
        "id": "gCZrZrg6hgrG"
      },
      "source": [
        "### **RESTRICCIÓN TIPO 9: conexión entre ambas mitades del río** ###\n",
        "\n",
        "$\\sum_{(i,j,k,l) \\in Conexiones\\_validas, m \\in \\{1,...,M\\}} X_{i,j,k,l,m} |R_{i,j} - R_{k,l}| \\geq 1 $\n"
      ]
    },
    {
      "cell_type": "markdown",
      "metadata": {
        "id": "JGL6wGAT7Fd6"
      },
      "source": [
        "### **RESTRICCIÓN TIPO 10: paso por la estación central** ###\n",
        "\n",
        "$Y_{c_1,c_2,m} \\geq 1, ~~\\forall~  m \\in \\{1,...,M\\}$, con $(c_1,c_2) = estacion\\_central  $\n",
        "\n"
      ]
    },
    {
      "cell_type": "markdown",
      "metadata": {
        "id": "U3R59MlAmNOo"
      },
      "source": [
        "\n",
        "## **RESUMEN DE RESTRICCIONES** ##"
      ]
    },
    {
      "cell_type": "markdown",
      "metadata": {
        "id": "IynIBalMmk6u"
      },
      "source": [
        "Reescribimos las restricciones ahora reagrupando términos en la forma estándar:\n",
        "\n",
        "\n",
        "1. $\\sum_{(i,j,k,l) \\in Conexiones\\_validas,m \\in \\{1,...,M\\} }  DIST_{i,j,k,l,}X_{i,j,k,l,m} \\leq max\\_long$\n",
        "\n",
        "\n",
        "\n",
        "1.   $X_{i,j,k,l,m} - Y_{i,j,m} \\leq 0 ~~~ \\forall ~(i,j,k,l) \\in Conexiones\\_validas, \\forall ~m \\in \\{1,...,M\\}$\n",
        "\n",
        "     $X_{i,j,k,l,m} - Y_{k,l,m} \\leq 0 ~~~ \\forall ~(i,j,k,l) \\in Conexiones\\_validas, \\forall ~m \\in \\{1,...,M\\}$\n",
        "\n",
        "3.   $ Y_{i,j,m} - \\sum_{(k,l) \\in Estaciones: (i,j,k,l) \\in Conexiones\\_validas}  X_{i,j,k,l,m} - \\sum_{(k,l) \\in Estaciones: (k,l,i,j) \\in Conexiones\\_validas}  X_{k,l,i,j,m}\\leq 0 ~~~ \\forall ~(i,j) \\in Estaciones, \\forall ~m \\in \\{1,...,M\\}$\n",
        "\n",
        "\n",
        "4. $Y_{i,j,m} - Z_{i,j} \\leq 0  ~~~ \\forall ~(i,j) \\in Estaciones,  \\forall ~m \\in \\{1,...,M\\} $\n",
        "\n",
        "\n",
        "5. $ Z_{i,j} - \\sum_{m \\in \\{1,...,M\\} }  Y_{i,j,m} \\leq 0 ~~~ \\forall ~(i,j) \\in Estaciones$\n",
        "\n",
        "6. $- \\sum_{(i,j) \\in Estaciones} Z_{i,j}I_{i,j} \\leq - min\\_estaciones\\_especiales$\n",
        "\n",
        "7. $Z_{i,j} - W_{D_{i,j}} \\leq 0 ~~~\\forall~ (i,j) \\in Estaciones$\n",
        "\n",
        "8. $ W_{d} -\\sum_{(i,j) \\in Estaciones : D(i,j) = d} Z_{i,j}\\leq 0 ~~~\\forall~ d \\in\\{1,...,num\\_distritos\\}$\n",
        "\n",
        "9. $- \\sum_{d=1}^{num\\_distritos}W_{d}  \\leq - min\\_distritos $\n",
        "\n",
        "10. $X_{i,j,k,l,m} \\leq H_{i,j,k,l} + V_{i,j,k,l} + DIAG_{i,j,k,l} ~~~\\forall ~~(i,j,k,l) \\in Conexiones\\_validas,~~ \\forall~~ m \\in \\{1,...,M\\}$\n",
        "\n",
        "11. $X_{i,j,k,l,m} \\leq 1 - INTER_{i,j,k,l} ~~~\\forall ~~(i,j,k,l) \\in Conexiones\\_validas,~~ \\forall~~ m \\in \\{1,...,M\\}$\n",
        "\n",
        "12. $ Y_{r_m,s_m,m} = 1, ~~ \\forall ~m \\in \\{1,...,M\\}, (r_m, s_m)$ raíz de $m$.\n",
        "\n",
        "13. $ \\sum_{(i,j) \\in Estaciones} Y_{i,j,m}  = estaciones\\_por\\_linea ~~~\\forall~ m \\in \\{1,...,M\\}$\n",
        "\n",
        "\n",
        "14. $ f_{i,j,k,l,m}  + (1-estaciones\\_por\\_linea) X_{i,j,k,l,m} \\leq 0 ~~~\\forall ~~(i,j,k,l) \\in Conexiones\\_validas,~~ \\forall~~ m \\in \\{1,...,M\\}$\n",
        "\n",
        "15.  $  \\sum_{(i,j)\\in Estaciones : (r_m,s_m,i,j) \\in Conexiones\\_validas} f_{r_m,s_m,i,j,m}  - \\sum_{(i,j)\\in Estaciones : (i,j,r_m,s_m) \\in Conexiones\\_validas} f_{i,j,r_m,s_m,m} = - estaciones\\_por\\_linea +1,  ~~ \\forall~~ m \\in \\{1,...,M\\} $\n",
        "\n",
        "\n",
        "16.  $  \\sum_{(k,l)\\in Estaciones : (i,j,k,l) \\in Conexiones_{validas}} f_{i,j,k,l,m}  - \\sum_{(k,l)\\in Estaciones : (k,l,i,j) \\in Conexiones\\_validas} f_{k,l,i,j}  - Y_{i,j,m}=0, ~~ \\forall  ~(r_m,s_m)\\neq (i,j) \\in Estaciones ~~ ,\\forall ~m \\in \\{1,...,M\\} $\n",
        "\n",
        "\n",
        "17. $C_{i,j,m} - \\sum_{(k,l) \\in Estaciones : (i,j,k,l) \\in Conexiones\\_validas}X_{i,j,k,l,m}  -  \\sum_{(k,l) \\in Estaciones : (k,l,i,j) \\in Conexiones\\_validas}X_{k,l,i,j,m}= 0 ~~~\\forall ~~(i,j) \\in Estaciones,~~ \\forall~~ m \\in \\{1,...,M\\}$\n",
        "\n",
        "18.  $ C_{i,j,m} \\leq 2 ~~~\\forall ~~(i,j) \\in Estaciones,~~ \\forall~~ m \\in \\{1,...,M\\}$\n",
        "\n",
        "\n",
        "19. $X_{i,j,k,l,m} + X_{p,q,r,s,t}  \\leq 1 ~~~\\forall ~~(i,j,k,l) \\in Conexiones\\_validas, (p,q,r,s) \\in Segmentos\\_secantes\\_(i,j,k,l),~~ \\forall~~ m,t \\in \\{1,...,M\\}$\n",
        "\n",
        "20. $ - \\sum_{(i,j,k,l) \\in Conexiones\\_validas, m \\in \\{1,...,M\\}} X_{i,j,k,l,m} |R_{i,j} - R_{k,l}| \\leq -1 $\n",
        "\n",
        "\n",
        "21. $Y_{c_1,c_2,m}  = 1, ~~\\forall~  m \\in \\{1,...,M\\}, (c_1,c_2) = estacion\\_central$\n"
      ]
    },
    {
      "cell_type": "markdown",
      "metadata": {
        "id": "-kjBp5Kvqitt"
      },
      "source": [
        "# **ESCRITURA COMO PROBLEMA DE PL** "
      ]
    },
    {
      "cell_type": "markdown",
      "metadata": {
        "id": "qd5NszgQmSR8"
      },
      "source": [
        "Tenemos las variables $X_{i,j,k,l,m}, Y_{i,j,m}, Z_{i,j}, W_d, C_{i,j,m},  f_{i,j,k,l,m}$. Agrupándolas todas, para formular un problema de PL del tipo $Ax \\leq b$,\n",
        "\n",
        "Para esto en necesario definir los índices que cada una tendrá en el vector $x$."
      ]
    },
    {
      "cell_type": "code",
      "execution_count": null,
      "metadata": {
        "id": "loM64gg3mRjT"
      },
      "outputs": [],
      "source": [
        "\n",
        "def generar_mapeo_indices():\n",
        "\n",
        "    \"\"\"\n",
        "    Genera un mapeo de índices para las variables de decisión en el problema.\n",
        "    Devuelve un diccionario que almacena los índices asociados a cada variable de decisión\n",
        "    en el vector plano, así como el tamaño total del vector.\n",
        "    \"\"\"\n",
        "\n",
        "    # Diccionario que almacenará los índices\n",
        "    indice_en_x = {}\n",
        "\n",
        "    # Índice inicial en el vector plano\n",
        "    contador = 0\n",
        "\n",
        "\n",
        "    # Mapear X_{i,j,k,l,m}\n",
        "    for i,j,k,l in conexiones_validas:\n",
        "        for m in range(M):\n",
        "             indice_en_x[f\"X_{i}_{j}_{k}_{l}_{m}\"] = contador\n",
        "             contador += 1\n",
        "\n",
        "\n",
        "    # Mapear Y_{i,j,m}\n",
        "    for i, j in estaciones:\n",
        "          for m in range(M):\n",
        "              indice_en_x[f\"Y_{i}_{j}_{m}\"] = contador\n",
        "              contador += 1\n",
        "\n",
        "\n",
        "    # Mapear Z_{i,j}\n",
        "    for i,j in estaciones:\n",
        "          indice_en_x[f\"Z_{i}_{j}\"] = contador\n",
        "          contador += 1\n",
        "\n",
        "\n",
        "    # Mapear W_d\n",
        "    for d in range(1, num_distritos+1):\n",
        "        indice_en_x[f\"W_{d}\"] = contador\n",
        "        contador += 1\n",
        "\n",
        "    # Mapear C_{i,j,m}\n",
        "    for i, j in estaciones:\n",
        "        for m in range(M):\n",
        "            indice_en_x[f\"C_{i}_{j}_{m}\"] = contador\n",
        "            contador += 1\n",
        "\n",
        "    # Mapear f_{i,j,k,l,m}\n",
        "    for i, j, k, l in conexiones_validas:\n",
        "          for m in range(M):\n",
        "              indice_en_x[f\"f_{i}_{j}_{k}_{l}_{m}\"] = contador\n",
        "              contador += 1\n",
        "\n",
        "    return indice_en_x, contador"
      ]
    },
    {
      "cell_type": "code",
      "execution_count": null,
      "metadata": {
        "id": "fhwh55Qomeq5",
        "outputId": "af701030-f4d9-4443-d54c-deb8f61d2fce"
      },
      "outputs": [],
      "source": [
        "indice_en_x, n_cols = generar_mapeo_indices()\n",
        "\n",
        "print(\"Número de variables: \", n_cols)"
      ]
    },
    {
      "cell_type": "markdown",
      "metadata": {
        "id": "lTMGPrkbrgpP"
      },
      "source": [
        "1.  $\\sum_{(i,j,k,l) \\in Conexiones\\_validas,m \\in \\{1,...,M\\} }  DIST_{i,j,k,l,}X_{i,j,k,l,m} \\leq max\\_long$\n"
      ]
    },
    {
      "cell_type": "code",
      "execution_count": null,
      "metadata": {
        "id": "7eygWSnGrnTR"
      },
      "outputs": [],
      "source": [
        "def r1():\n",
        "    \"\"\"\n",
        "    Devuelve las filas del sistema correspondientes a la restricción 1.\n",
        "    \"\"\"\n",
        "\n",
        "    rows =  lil_matrix((1, n_cols))\n",
        "    b = np.zeros(1)\n",
        "\n",
        "    for i,j,k,l in conexiones_validas:\n",
        "        for m in range(M):\n",
        "            \n",
        "            rows[0, indice_en_x[f\"X_{i}_{j}_{k}_{l}_{m}\"]] = DIST[i,j,k,l]\n",
        "    \n",
        "    b[0] = max_long\n",
        "\n",
        "    return rows, b"
      ]
    },
    {
      "cell_type": "markdown",
      "metadata": {
        "id": "7vPqbjWiquWo"
      },
      "source": [
        "2.   $X_{i,j,k,l,m} - Y_{i,j,m} \\leq 0 ~~~ \\forall ~(i,j,k,l) \\in Conexiones\\_validas, \\forall ~m \\in \\{1,...,M\\}$\n",
        "\n",
        "     $X_{i,j,k,l,m} - Y_{k,l,m} \\leq 0 ~~~ \\forall ~(i,j,k,l) \\in Conexiones\\_validas, \\forall ~m \\in \\{1,...,M\\}$"
      ]
    },
    {
      "cell_type": "code",
      "execution_count": null,
      "metadata": {
        "id": "zmGIKoRXqwvY"
      },
      "outputs": [],
      "source": [
        "def r2():\n",
        "    \"\"\"\n",
        "    Devuelve las filas del sistema correspondientes a la restricción 2.\n",
        "    \"\"\"\n",
        "\n",
        "    n_rows = 2 * N_val * M  # Número total de este tipo de restricciones\n",
        "    rows = lil_matrix((n_rows, n_cols))\n",
        "    b = np.zeros(n_rows)  \n",
        "\n",
        "    row_idx = 0\n",
        "\n",
        "    for i,j,k,l in conexiones_validas:\n",
        "        for m in range(M):\n",
        "\n",
        "            rows[row_idx, indice_en_x[f\"X_{i}_{j}_{k}_{l}_{m}\"]] = 1\n",
        "            rows[row_idx, indice_en_x[f\"Y_{i}_{j}_{m}\"]] = -1\n",
        "            b[row_idx] = 0\n",
        "\n",
        "            rows[N_val*M + row_idx, indice_en_x[f\"X_{i}_{j}_{k}_{l}_{m}\"]] = 1\n",
        "            rows[N_val*M + row_idx, indice_en_x[f\"Y_{k}_{l}_{m}\"]] = -1\n",
        "            b[N_val*M + row_idx ] = 0\n",
        "\n",
        "            row_idx += 1\n",
        "\n",
        "    return rows, b"
      ]
    },
    {
      "cell_type": "markdown",
      "metadata": {
        "id": "pf53Lj5bq4AT"
      },
      "source": [
        "3.    $ Y_{i,j,m} - \\sum_{(k,l) \\in Estaciones: (i,j,k,l) \\in Conexiones\\_validas}  X_{i,j,k,l,m} - \\sum_{(k,l) \\in Estaciones: (k,l,i,j) \\in Conexiones\\_validas}  X_{k,l,i,j,m}\\leq 0 ~~~ \\forall ~(i,j) \\in Estaciones, \\forall ~m \\in \\{1,...,M\\}$"
      ]
    },
    {
      "cell_type": "code",
      "execution_count": null,
      "metadata": {
        "id": "jyyu5GKMq4xS"
      },
      "outputs": [],
      "source": [
        "def r3():\n",
        "    \"\"\"\n",
        "    Devuelve las filas del sistema correspondientes a la restricción 3.\n",
        "    \"\"\"\n",
        "\n",
        "    n_rows = n_estaciones * M\n",
        "    rows =  lil_matrix((n_rows, n_cols))\n",
        "    b = np.zeros(n_rows)\n",
        "\n",
        "    row_idx = 0\n",
        "\n",
        "    for i,j in estaciones:\n",
        "          for m in range(M):\n",
        "\n",
        "              rows[row_idx, indice_en_x[f\"Y_{i}_{j}_{m}\"]] = 1\n",
        "\n",
        "              for k,l in estaciones:\n",
        "\n",
        "                      if (i,j,k,l) in conexiones_validas:\n",
        "                        rows[row_idx, indice_en_x[f\"X_{i}_{j}_{k}_{l}_{m}\"]] = -1\n",
        "\n",
        "                      if (k,l,i,j) in conexiones_validas:\n",
        "                        rows[row_idx, indice_en_x[f\"X_{k}_{l}_{i}_{j}_{m}\"]] = -1\n",
        "\n",
        "              b[row_idx] = 0\n",
        "              row_idx += 1\n",
        "\n",
        "    return rows, b"
      ]
    },
    {
      "cell_type": "markdown",
      "metadata": {
        "id": "gS06wF2Nq_do"
      },
      "source": [
        "4. $Y_{i,j,m} - Z_{i,j} \\leq 0  ~~~ \\forall ~(i,j) \\in Estaciones,  \\forall ~m \\in \\{1,...,M\\} $\n",
        "\n",
        "\n"
      ]
    },
    {
      "cell_type": "code",
      "execution_count": null,
      "metadata": {
        "id": "anxl3xxIrDNF"
      },
      "outputs": [],
      "source": [
        "def r4():\n",
        "    \"\"\"\n",
        "    Devuelve las filas del sistema correspondientes a la restricción 4.\n",
        "    \"\"\"\n",
        "\n",
        "    n_rows = n_estaciones * M\n",
        "    rows =  lil_matrix((n_rows, n_cols))\n",
        "    b = np.zeros(n_rows)\n",
        "\n",
        "    row_idx = 0\n",
        "\n",
        "    for i,j in estaciones:\n",
        "          for m in range(M):\n",
        "\n",
        "            rows[row_idx, indice_en_x[f\"Y_{i}_{j}_{m}\"]] = 1\n",
        "            rows[row_idx, indice_en_x[f\"Z_{i}_{j}\"]] = -1\n",
        "\n",
        "            b[row_idx] = 0\n",
        "            row_idx += 1\n",
        "\n",
        "    return rows, b\n"
      ]
    },
    {
      "cell_type": "markdown",
      "metadata": {
        "id": "1O-S3jKbrEgb"
      },
      "source": [
        "5. $ Z_{i,j} - \\sum_{m \\in \\{1,...,M\\} }  Y_{i,j,m} \\leq 0 ~~~ \\forall ~(i,j) \\in Estaciones$\n"
      ]
    },
    {
      "cell_type": "code",
      "execution_count": null,
      "metadata": {
        "id": "mM_XRgD6rYaM"
      },
      "outputs": [],
      "source": [
        "def r5():\n",
        "    \"\"\"\n",
        "    Devuelve las filas del sistema correspondientes a la restricción 5.\n",
        "    \"\"\"\n",
        "\n",
        "    n_rows = n_estaciones\n",
        "    rows =  lil_matrix((n_rows, n_cols))\n",
        "    b = np.zeros(n_rows)\n",
        "\n",
        "    row_idx = 0\n",
        "\n",
        "    for i,j in estaciones:\n",
        "\n",
        "        rows[row_idx, indice_en_x[f\"Z_{i}_{j}\"]] = 1\n",
        "\n",
        "        for m in range(M):\n",
        "            rows[row_idx, indice_en_x[f\"Y_{i}_{j}_{m}\"]] = -1\n",
        "\n",
        "\n",
        "        b[row_idx] = 0\n",
        "        row_idx += 1\n",
        "\n",
        "\n",
        "    return rows, b"
      ]
    },
    {
      "cell_type": "markdown",
      "metadata": {
        "id": "WUp5-dvUr9Vx"
      },
      "source": [
        "6. $- \\sum_{(i,j) \\in Estaciones} Z_{i,j}I_{i,j} \\leq - min\\_estaciones\\_especiales$"
      ]
    },
    {
      "cell_type": "code",
      "execution_count": null,
      "metadata": {
        "id": "kI7HJbFMr_Lu"
      },
      "outputs": [],
      "source": [
        "def r6():\n",
        "    \"\"\"\n",
        "    Devuelve las filas del sistema correspondientes a la restricción 6.\n",
        "    \"\"\"\n",
        "\n",
        "    rows =  lil_matrix((1, n_cols))\n",
        "    b = np.zeros(1)\n",
        "\n",
        "    for i,j in estaciones:\n",
        "            rows[0, indice_en_x[f\"Z_{i}_{j}\"]] = -I[i,j]\n",
        "\n",
        "    b[0] = -min_estaciones_especiales\n",
        "\n",
        "    return rows, b"
      ]
    },
    {
      "cell_type": "markdown",
      "metadata": {
        "id": "w9s86k-csDr-"
      },
      "source": [
        "7. $Z_{i,j} - W_{D_{i,j}} \\leq 0 ~~~\\forall~ (i,j) \\in Estaciones$\n"
      ]
    },
    {
      "cell_type": "code",
      "execution_count": null,
      "metadata": {
        "id": "IWnhldxgsa1n"
      },
      "outputs": [],
      "source": [
        "def r7():\n",
        "    \"\"\"\n",
        "    Devuelve las filas del sistema correspondientes a la restricción 7.\n",
        "    \"\"\"\n",
        "\n",
        "    n_rows = n_estaciones\n",
        "    rows =  lil_matrix((n_rows, n_cols))\n",
        "    b = np.zeros(n_rows)\n",
        "\n",
        "    row_idx = 0\n",
        "\n",
        "    for i,j in estaciones:\n",
        "            \n",
        "            rows[row_idx, indice_en_x[f\"Z_{i}_{j}\"]] = 1\n",
        "            dij = D[i,j]\n",
        "            rows[row_idx, indice_en_x[f\"W_{dij}\"]] = -1\n",
        "\n",
        "            b[row_idx] = 0\n",
        "            row_idx += 1\n",
        "\n",
        "    return rows, b"
      ]
    },
    {
      "cell_type": "markdown",
      "metadata": {
        "id": "p2lkXkRGshhZ"
      },
      "source": [
        "8. $ W_{d} -\\sum_{(i,j) \\in Estaciones : D(i,j) = d} Z_{i,j}\\leq 0 ~~~\\forall~ d \\in\\{1,...,num\\_distritos\\}$"
      ]
    },
    {
      "cell_type": "code",
      "execution_count": null,
      "metadata": {
        "id": "KDuCS4RnsnXK"
      },
      "outputs": [],
      "source": [
        "def r8():\n",
        "    \"\"\"\n",
        "    Devuelve las filas del sistema correspondientes a la restricción 8.\n",
        "    \"\"\"\n",
        "\n",
        "    n_rows = num_distritos\n",
        "    rows =  lil_matrix((n_rows, n_cols))\n",
        "    b = np.zeros(n_rows)\n",
        "\n",
        "    row_idx = 0\n",
        "\n",
        "    for d in range(1, num_distritos+1):\n",
        "\n",
        "        rows[row_idx, indice_en_x[f\"W_{d}\"]] = 1\n",
        "\n",
        "        for i,j in estaciones:\n",
        "\n",
        "            if D[i,j] == d:\n",
        "                rows[row_idx, indice_en_x[f\"Z_{i}_{j}\"]] = -1\n",
        "\n",
        "        b[row_idx] = 0\n",
        "        row_idx += 1\n",
        "\n",
        "    return rows, b"
      ]
    },
    {
      "cell_type": "markdown",
      "metadata": {
        "id": "W2OHnrIhsyFA"
      },
      "source": [
        "9. $- \\sum_{d=1}^{num\\_distritos}W_{d}  \\leq - min\\_distritos $\n"
      ]
    },
    {
      "cell_type": "code",
      "execution_count": null,
      "metadata": {
        "id": "tkcesCLhs4Bv"
      },
      "outputs": [],
      "source": [
        "def r9():\n",
        "    \"\"\"\n",
        "    Devuelve las filas del sistema correspondientes a la restricción 9.\n",
        "    \"\"\"\n",
        "\n",
        "    rows =  lil_matrix((1, n_cols))\n",
        "    b = np.zeros(1)\n",
        "\n",
        "    for d in range(1, num_distritos+1):\n",
        "          \n",
        "          rows[0, indice_en_x[f\"W_{d}\"]] = -1\n",
        "          \n",
        "    b[0] = -min_distritos\n",
        "\n",
        "    return rows, b\n"
      ]
    },
    {
      "cell_type": "markdown",
      "metadata": {
        "id": "eK9vxoPQs9X2"
      },
      "source": [
        "10. $X_{i,j,k,l,m} \\leq H_{i,j,k,l} + V_{i,j,k,l} + DIAG_{i,j,k,l} ~~~\\forall ~~(i,j,k,l) \\in Conexiones\\_validas,~~ \\forall~~ m \\in \\{1,...,M\\}$"
      ]
    },
    {
      "cell_type": "code",
      "execution_count": null,
      "metadata": {
        "id": "jd05pstZs-6m"
      },
      "outputs": [],
      "source": [
        "def r10():\n",
        "    \"\"\"\n",
        "    Devuelve las filas del sistema correspondientes a la restricción 10.\n",
        "    \"\"\"\n",
        "    \n",
        "    n_rows = N_val * M\n",
        "    rows =  lil_matrix((n_rows, n_cols))\n",
        "    b = np.zeros(n_rows)\n",
        "\n",
        "    row_idx = 0\n",
        "\n",
        "    for i,j,k,l in conexiones_validas:\n",
        "          for m in range(M):\n",
        "\n",
        "              rows[row_idx, indice_en_x[f\"X_{i}_{j}_{k}_{l}_{m}\"]] = 1\n",
        "\n",
        "              b[row_idx] = H[i,j,k,l] + V[i,j,k,l] + DIAG[i,j,k,l]\n",
        "\n",
        "              row_idx += 1\n",
        "\n",
        "    return rows, b"
      ]
    },
    {
      "cell_type": "markdown",
      "metadata": {
        "id": "NyiM8uoxtFtm"
      },
      "source": [
        "11. $X_{i,j,k,l,m} \\leq 1 - INTER_{i,j,k,l} ~~~\\forall ~~(i,j,k,l) \\in Conexiones\\_validas,~~ \\forall~~ m \\in \\{1,...,M\\}$"
      ]
    },
    {
      "cell_type": "code",
      "execution_count": null,
      "metadata": {
        "id": "DRNf0cSxtHmY"
      },
      "outputs": [],
      "source": [
        "def r11():\n",
        "    \"\"\"\n",
        "    Devuelve las filas del sistema correspondientes a la restricción 11.\n",
        "    \"\"\"\n",
        "\n",
        "    n_rows = N_val * M\n",
        "    rows = lil_matrix((n_rows, n_cols))\n",
        "    b = np.zeros(n_rows)\n",
        "\n",
        "    row_idx = 0\n",
        "\n",
        "    for i,j,k,l in conexiones_validas:\n",
        "          for m in range(M):\n",
        "\n",
        "              rows[row_idx, indice_en_x[f\"X_{i}_{j}_{k}_{l}_{m}\"]] = 1\n",
        "\n",
        "              b[row_idx] = 1 - INTER[i,j,k,l]\n",
        "\n",
        "              row_idx += 1\n",
        "\n",
        "    return rows, b"
      ]
    },
    {
      "cell_type": "markdown",
      "metadata": {
        "id": "Qx7OQVS17FeB"
      },
      "source": [
        "12. $ Y_{r_m,s_m,m} = 1, ~~ \\forall ~m \\in \\{1,...,M\\}, (r_m, s_m)$ raíz de $m$."
      ]
    },
    {
      "cell_type": "code",
      "execution_count": null,
      "metadata": {
        "id": "zrPXzHOz7FeB"
      },
      "outputs": [],
      "source": [
        "def r12():\n",
        "    \"\"\"\n",
        "    Devuelve las filas del sistema correspondientes a la restricción 12.\n",
        "    \"\"\"\n",
        "\n",
        "    n_rows = M\n",
        "    rows = lil_matrix((n_rows, n_cols))\n",
        "    b = np.zeros(n_rows)\n",
        "\n",
        "    row_idx = 0\n",
        "\n",
        "    for (r,s) in raices:\n",
        "        \n",
        "        rows[row_idx, indice_en_x[f\"Y_{r}_{s}_{row_idx}\"]] = 1\n",
        "        b[row_idx] = 1\n",
        "        row_idx += 1\n",
        "\n",
        "    return rows, b\n"
      ]
    },
    {
      "cell_type": "markdown",
      "metadata": {
        "id": "DN9u6tL5r2-F"
      },
      "source": [
        "13. $\\sum_{(i,j) \\in Estaciones} Y_{i,j,m} =  estaciones\\_por\\_linea ~~~\\forall~ m \\in \\{1,...,M\\}$"
      ]
    },
    {
      "cell_type": "code",
      "execution_count": null,
      "metadata": {
        "id": "D4GgkUvF7FeB"
      },
      "outputs": [],
      "source": [
        "def r13():\n",
        "    \"\"\"\n",
        "    Devuelve las filas del sistema correspondientes a la restricción 13.\n",
        "    \"\"\"\n",
        "\n",
        "    n_rows = N_val * M\n",
        "    rows = lil_matrix((n_rows, n_cols))\n",
        "    b = np.zeros(n_rows)\n",
        "\n",
        "    row_idx = 0\n",
        "\n",
        "    for i,j,k,l in conexiones_validas:\n",
        "        for m in range(M):\n",
        "            \n",
        "            rows[row_idx, indice_en_x[f\"X_{i}_{j}_{k}_{l}_{m}\"]] = 1-estaciones_por_linea\n",
        "            rows[row_idx, indice_en_x[f\"f_{i}_{j}_{k}_{l}_{m}\"]] = 1\n",
        "            b[row_idx] = 0\n",
        "            row_idx += 1\n",
        "\n",
        "    return rows, b"
      ]
    },
    {
      "cell_type": "markdown",
      "metadata": {
        "id": "wLMPescD7FeB"
      },
      "source": [
        "14. $ f_{i,j,k,l,m}  + (1-estaciones\\_por\\_linea) X_{i,j,k,l,m} \\leq 0 ~~~\\forall ~~(i,j,k,l) \\in Conexiones\\_validas,~~ \\forall~~ m \\in \\{1,...,M\\}$"
      ]
    },
    {
      "cell_type": "code",
      "execution_count": null,
      "metadata": {
        "id": "OIyCERIpr39P"
      },
      "outputs": [],
      "source": [
        "def r14():\n",
        "    \"\"\"\n",
        "    Devuelve las filas del sistema correspondientes a la restricción 14.\n",
        "    \"\"\"\n",
        "\n",
        "    n_rows = M\n",
        "    rows =  lil_matrix((n_rows, n_cols))\n",
        "    b = np.zeros(n_rows)\n",
        "\n",
        "    for row_idx in range(n_rows): #row_idx = m\n",
        "        for i,j in estaciones:\n",
        "                \n",
        "                rows[row_idx, indice_en_x[f\"Y_{i}_{j}_{row_idx}\"]] = 1\n",
        "\n",
        "        b[row_idx] = estaciones_por_linea\n",
        "\n",
        "    return rows, b"
      ]
    },
    {
      "cell_type": "markdown",
      "metadata": {
        "id": "zEmcpX4l7FeB"
      },
      "source": [
        "15.  $  \\sum_{(i,j)\\in Estaciones : (r_m,s_m,i,j) \\in Conexiones\\_validas} f_{r_m,s_m,i,j,m}  - \\sum_{(i,j)\\in Estaciones : (i,j,r_m,s_m) \\in Conexiones\\_validas} f_{i,j,r_m,s_m,m} = - estaciones\\_por\\_linea +1,  ~~ \\forall~~ m \\in \\{1,...,M\\} $"
      ]
    },
    {
      "cell_type": "code",
      "execution_count": null,
      "metadata": {
        "id": "z_BD4TWY7FeB"
      },
      "outputs": [],
      "source": [
        "def r15():\n",
        "    \"\"\"\n",
        "    Devuelve las filas del sistema correspondientes a la restricción 15.\n",
        "    \"\"\"\n",
        "\n",
        "    n_rows = M\n",
        "    rows = lil_matrix((n_rows, n_cols))\n",
        "    b = np.zeros(n_rows)\n",
        "\n",
        "    for m in range(M):\n",
        "\n",
        "        (r,s) = raices[m]\n",
        "        \n",
        "        for i,j in estaciones:\n",
        "\n",
        "            if (r,s,i,j) in conexiones_validas:\n",
        "                rows[m, indice_en_x[f\"f_{r}_{s}_{i}_{j}_{m}\"]] = 1\n",
        "\n",
        "            if (i,j,r,s) in conexiones_validas:\n",
        "                rows[m, indice_en_x[f\"f_{i}_{j}_{r}_{s}_{m}\"]] = -1\n",
        "\n",
        "        b[m] = 1-estaciones_por_linea\n",
        "\n",
        "    return rows, b"
      ]
    },
    {
      "cell_type": "markdown",
      "metadata": {
        "id": "5zxxdH_T7FeB"
      },
      "source": [
        "16.  $  \\sum_{(k,l)\\in Estaciones : (i,j,k,l) \\in Conexiones_{validas}} f_{i,j,k,l,m}  - \\sum_{(k,l)\\in Estaciones : (k,l,i,j) \\in Conexiones\\_validas} f_{k,l,i,j}  - Y_{i,j,m}=0, ~~ \\forall  ~(r_m,s_m)\\neq (i,j) \\in Estaciones ~~ ,\\forall ~m \\in \\{1,...,M\\} $"
      ]
    },
    {
      "cell_type": "code",
      "execution_count": null,
      "metadata": {
        "id": "VTTJUbz97FeB"
      },
      "outputs": [],
      "source": [
        "def r16():\n",
        "    \"\"\"\n",
        "    Devuelve las filas del sistema correspondientes a la restricción 16.\n",
        "    \"\"\"\n",
        "\n",
        "    n_rows = (n_estaciones-1) * M\n",
        "    rows = lil_matrix((n_rows, n_cols))\n",
        "    b = np.zeros(n_rows)\n",
        "\n",
        "    row_idx = 0\n",
        "\n",
        "    for m in range(M):\n",
        "\n",
        "        (r,s) = raices[m]\n",
        "\n",
        "        for i,j in estaciones:\n",
        "\n",
        "            if (i,j)!=(r,s):\n",
        "\n",
        "                rows[row_idx, indice_en_x[f\"Y_{i}_{j}_{m}\"]] = -1\n",
        "                b[row_idx] = 0\n",
        "\n",
        "                for k,l in estaciones:\n",
        "\n",
        "                        if (i,j,k,l) in conexiones_validas:\n",
        "                            rows[row_idx, indice_en_x[f\"f_{i}_{j}_{k}_{l}_{m}\"]] = 1\n",
        "\n",
        "                        if (k,l,i,j) in conexiones_validas:\n",
        "                            rows[row_idx, indice_en_x[f\"f_{k}_{l}_{i}_{j}_{m}\"]] = -1\n",
        "\n",
        "                row_idx += 1\n",
        "\n",
        "\n",
        "    return rows, b"
      ]
    },
    {
      "cell_type": "markdown",
      "metadata": {
        "id": "KRK_LuLo7FeB"
      },
      "source": [
        "17. $C_{i,j,m} - \\sum_{(k,l) \\in Estaciones : (i,j,k,l) \\in Conexiones\\_validas}X_{i,j,k,l,m}  -  \\sum_{(k,l) \\in Estaciones : (k,l,i,j) \\in Conexiones\\_validas}X_{k,l,i,j,m}= 0 ~~~\\forall ~~(i,j) \\in Estaciones,~~ \\forall~~ m \\in \\{1,...,M\\}$"
      ]
    },
    {
      "cell_type": "code",
      "execution_count": null,
      "metadata": {
        "id": "VuLoHYos7FeB"
      },
      "outputs": [],
      "source": [
        "def r17():\n",
        "    \"\"\"\n",
        "    Devuelve las filas del sistema correspondientes a la restricción 17.\n",
        "    \"\"\"\n",
        "\n",
        "    n_rows = n_estaciones * M\n",
        "    rows = lil_matrix((n_rows, n_cols))\n",
        "    b = np.zeros(n_rows)\n",
        "\n",
        "    row_idx = 0\n",
        "\n",
        "    for i,j in estaciones:\n",
        "              for m in range(M):\n",
        "\n",
        "                  rows[row_idx, indice_en_x[f\"C_{i}_{j}_{m}\"]] = 1\n",
        "\n",
        "                  for k,l in estaciones:\n",
        "\n",
        "                          if (i,j,k,l) in conexiones_validas:\n",
        "                            rows[row_idx, indice_en_x[f\"X_{i}_{j}_{k}_{l}_{m}\"]] = -1\n",
        "\n",
        "                          if (k,l,i,j) in conexiones_validas:\n",
        "                            rows[row_idx, indice_en_x[f\"X_{k}_{l}_{i}_{j}_{m}\"]] = -1\n",
        "\n",
        "                  b[row_idx] = 0\n",
        "                  row_idx += 1\n",
        "\n",
        "    return rows, b"
      ]
    },
    {
      "cell_type": "markdown",
      "metadata": {
        "id": "MVyCNOyBt9nO"
      },
      "source": [
        "18.  $ C_{i,j,m} \\leq 2 ~~~\\forall ~~(i,j) \\in Estaciones,~~ \\forall~~ m \\in \\{1,...,M\\}$\n"
      ]
    },
    {
      "cell_type": "code",
      "execution_count": null,
      "metadata": {
        "id": "hutBd5i1t_et"
      },
      "outputs": [],
      "source": [
        "def r18():\n",
        "    \"\"\"\n",
        "    Devuelve las filas del sistema correspondientes a la restricción 18.\n",
        "    \"\"\"\n",
        "\n",
        "    n_rows = n_estaciones * M\n",
        "    rows =  lil_matrix((n_rows, n_cols))\n",
        "    b = np.zeros(n_rows)\n",
        "\n",
        "    row_idx = 0\n",
        "\n",
        "    for i,j in estaciones:\n",
        "              for m in range(M):\n",
        "\n",
        "                  rows[row_idx, indice_en_x[f\"C_{i}_{j}_{m}\"]] = 1\n",
        "\n",
        "                  b[row_idx] = 2\n",
        "                  row_idx += 1\n",
        "\n",
        "    return rows, b\n"
      ]
    },
    {
      "cell_type": "markdown",
      "metadata": {
        "id": "gcm84SvNuR_z"
      },
      "source": [
        "19. $X_{i,j,k,l,m} + X_{p,q,r,s,t}  \\leq 1 ~~~\\forall ~~(i,j,k,l) \\in Conexiones\\_validas, (p,q,r,s) \\in Segmentos\\_secantes\\_(i,j,k,l),~~ \\forall~~ m,t \\in \\{1,...,M\\}$"
      ]
    },
    {
      "cell_type": "code",
      "execution_count": null,
      "metadata": {
        "id": "M7Z1j5SVuXxS"
      },
      "outputs": [],
      "source": [
        "def r19():\n",
        "    \"\"\"\n",
        "    Devuelve las filas del sistema correspondientes a la restricción 19.\n",
        "    \"\"\"\n",
        "\n",
        "    row_list  = []\n",
        "    b_list = []\n",
        "\n",
        "    row_idx = 0\n",
        "\n",
        "    for i,j,k,l in conexiones_validas:\n",
        "\n",
        "        segs_secantes = segmentos_secantes(i,j,k,l)\n",
        "\n",
        "        for p,q,r,s in segs_secantes:\n",
        "            for m in range(M):\n",
        "                for t in range(M):\n",
        "\n",
        "                    row_list.append((row_idx, f\"X_{i}_{j}_{k}_{l}_{m}\", 1))\n",
        "                    row_list.append((row_idx, f\"X_{p}_{q}_{r}_{s}_{t}\", 1))\n",
        "                    b_list.append((row_idx, 1))\n",
        "                    row_idx += 1\n",
        "\n",
        "    rows = lil_matrix((row_idx, n_cols))\n",
        "    b = np.zeros(row_idx)\n",
        "    for idx, var_name, value in row_list:\n",
        "        rows[idx, indice_en_x[var_name]] = value\n",
        "    for idx, value in b_list:\n",
        "        b[idx] = value\n",
        "\n",
        "    return rows, b"
      ]
    },
    {
      "cell_type": "markdown",
      "metadata": {
        "id": "K3cYxpZSu1IC"
      },
      "source": [
        "20. $ - \\sum_{(i,j,k,l) \\in Conexiones\\_validas, m \\in \\{1,...,M\\}} X_{i,j,k,l,m} |R_{i,j} - R_{k,l}| \\leq -1 $\n"
      ]
    },
    {
      "cell_type": "code",
      "execution_count": null,
      "metadata": {
        "id": "CbsQTeFuu60f"
      },
      "outputs": [],
      "source": [
        "def r20():\n",
        "    \"\"\"\n",
        "    Devuelve las filas del sistema correspondientes a la restricción 20.\n",
        "    \"\"\"\n",
        "\n",
        "    rows =  lil_matrix((1, n_cols))\n",
        "    b = np.zeros(1)\n",
        "\n",
        "    for m in range(M):\n",
        "        for i,j,k,l in conexiones_validas:\n",
        "\n",
        "            coef = -1 * abs(R[i,j] - R[k,l])\n",
        "            rows[0, indice_en_x[f\"X_{i}_{j}_{k}_{l}_{m}\"]] = coef\n",
        "\n",
        "    b[0] = -1\n",
        "    \n",
        "    return rows, b\n"
      ]
    },
    {
      "cell_type": "markdown",
      "metadata": {
        "id": "cOwyXQCb7FeC"
      },
      "source": [
        "21. $Y_{c_1,c_2,m} = 1, ~~\\forall~  m \\in \\{1,...,M\\}$, con $(c_1,c_2) = estacion\\_central $\n"
      ]
    },
    {
      "cell_type": "code",
      "execution_count": null,
      "metadata": {
        "id": "bHhJogoO7FeC"
      },
      "outputs": [],
      "source": [
        "def r21():\n",
        "    \"\"\"\n",
        "    Devuelve las filas del sistema correspondientes a la restricción 21.\n",
        "    \"\"\"\n",
        "\n",
        "    n_rows = M\n",
        "\n",
        "    rows =  lil_matrix((n_rows, n_cols))\n",
        "    b = np.zeros(n_rows)\n",
        "\n",
        "    (c1,c2) = estacion_central\n",
        "\n",
        "    for m in range(M):\n",
        "\n",
        "        rows[m, indice_en_x[f\"Y_{c1}_{c2}_{m}\"]] = 1\n",
        "        b[m] = 1\n",
        "\n",
        "    return rows, b"
      ]
    },
    {
      "cell_type": "markdown",
      "metadata": {
        "id": "l3ZpAYPIvcE7"
      },
      "source": [
        "# **SOLVER** #"
      ]
    },
    {
      "cell_type": "code",
      "execution_count": null,
      "metadata": {
        "id": "O5mClx-cvgUJ"
      },
      "outputs": [],
      "source": [
        "# Generación de las restricciones (filas del sistema).\n",
        "rows1, b1 = r1()\n",
        "rows2, b2 = r2()\n",
        "rows3, b3 = r3()\n",
        "rows4, b4 = r4()\n",
        "rows5, b5 = r5()\n",
        "rows6, b6 = r6()\n",
        "rows7, b7 = r7()\n",
        "rows8, b8 = r8()\n",
        "rows9, b9 = r9()\n",
        "rows10, b10 = r10()\n",
        "rows11, b11 = r11()\n",
        "rows12, b12 = r12()\n",
        "rows13, b13 = r13()\n",
        "rows14, b14 = r14()\n",
        "rows15, b15 = r15()\n",
        "rows16, b16 = r16()\n",
        "rows17, b17 = r17()\n",
        "rows18, b18 = r18()\n",
        "rows19, b19 = r19()\n",
        "rows20, b20 = r20()\n",
        "rows21, b21 = r21()"
      ]
    },
    {
      "cell_type": "code",
      "execution_count": null,
      "metadata": {
        "id": "vgWIT3Sn7FeC",
        "outputId": "4b4ac169-8c69-45db-c7cb-c69cea517155"
      },
      "outputs": [],
      "source": [
        "# Agrupación de las restricciones de igualdad\n",
        "A_eq = vstack([rows12, rows13, rows15, rows16, rows17, rows21], format='csr')\n",
        "b_eq = np.hstack([b12, b13, b15, b16, b17, b21])\n",
        "\n",
        "# Agrupación de las restricciones de desigualdad\n",
        "A_leq = vstack([rows1, rows2, rows3, rows4, rows5, rows6, rows7, rows8, rows9, rows10, rows11, rows14, rows18, rows19, rows20], format='csr')\n",
        "b_leq = np.hstack([b1, b2, b3, b4, b5, b6, b7, b8, b9, b10, b11, b14, b18, b19, b20])\n",
        "\n",
        "# Impresión de las dimensiones de las matrices, \n",
        "# representando (número de restricciones, número de variables)\n",
        "print(\"A_eq shape\", A_eq.shape)\n",
        "print(\"b_eq shape\", np.shape(b_eq))\n",
        "print(\"A_leq shape\", A_leq.shape)\n",
        "print(\"b_leq shape\", np.shape(b_leq))\n"
      ]
    },
    {
      "cell_type": "markdown",
      "metadata": {},
      "source": [
        "### MINIMIZACIÓN DE LONGITUD DE VÍAS ####"
      ]
    },
    {
      "cell_type": "code",
      "execution_count": null,
      "metadata": {
        "id": "m2FjlCC4wK1h",
        "outputId": "bb792041-4375-4137-f994-f8854bd2548a"
      },
      "outputs": [],
      "source": [
        "# === 1. Crear un vector o lista plana de longitud el número de variables ===\n",
        "x = [None] * n_cols\n",
        "\n",
        "# === 2. Crear las variables de decisión para el solver, asociándolas al vector plano ===\n",
        "for nombre, idx in indice_en_x.items(): # nombre = X_{i}_{j}_{k}_{l}_{m}, idx = indices_en_x[nombre]\n",
        "    if nombre.startswith(\"X_\"):\n",
        "        x[idx] = pulp.LpVariable(nombre, cat='Binary')\n",
        "    elif nombre.startswith(\"Y_\"):\n",
        "        x[idx] = pulp.LpVariable(nombre, cat='Binary')\n",
        "    elif nombre.startswith(\"Z_\"):\n",
        "        x[idx] = pulp.LpVariable(nombre, cat='Binary')\n",
        "    elif nombre.startswith(\"C_\"):\n",
        "        x[idx] = pulp.LpVariable(nombre, lowBound=0, cat='Integer')\n",
        "    elif nombre.startswith(\"f_\"):\n",
        "        x[idx] = pulp.LpVariable(nombre, lowBound=0, cat='Integer')\n",
        "    elif nombre.startswith(\"W_\"):\n",
        "        x[idx] = pulp.LpVariable(nombre, cat='Binary')\n",
        "    elif nombre.startswith(\"AUX_\"):\n",
        "        x[idx] = pulp.LpVariable(nombre, cat='Binary')\n",
        "    elif nombre.startswith(\"L_\"):\n",
        "        x[idx] = pulp.LpVariable(nombre, cat= 'Binary')\n",
        "\n",
        "\n",
        "# === 3. Crear el modelo ===\n",
        "prob = pulp.LpProblem(\"Optimización_MILP\", pulp.LpMinimize)\n",
        "\n",
        "# === 4. Definir la función objetivo ===\n",
        "prob += pulp.lpSum(DIST[i, j, k, l] * x[indice_en_x[f\"X_{i}_{j}_{k}_{l}_{m}\"]] for i, j, k, l in conexiones_validas for m in range(M))\n",
        "\n",
        "# === 5. Especificar las restricciones ===\n",
        "for idx in range(A_leq.shape[0]):\n",
        "    fila = A_leq.getrow(idx)\n",
        "    prob += pulp.lpSum(fila.data[k] * x[int(fila.indices[k])] for k in range(len(fila.indices))) <= b_leq[idx]\n",
        "\n",
        "for idx in range(A_eq.shape[0]):\n",
        "    fila = A_eq.getrow(idx)\n",
        "    prob += pulp.lpSum(fila.data[k] * x[int(fila.indices[k])] for k in range(len(fila.indices))) == b_eq[idx]\n",
        "\n",
        "# === 6. Resolver ===\n",
        "prob.solve()\n",
        "\n",
        "# === 7. Obtener resultados ===\n",
        "if pulp.LpStatus[prob.status] == 'Optimal':\n",
        "    print(\"Solución óptima encontrada:\")\n",
        "    for var in prob.variables():\n",
        "        if var.varValue > 0:\n",
        "            print(f\"{var.name} = {var.varValue}\")  \n",
        "    print(\"\\n Valor objetivo:\", pulp.value(prob.objective))\n",
        "else:\n",
        "    print(\"No se encontró solución:\", pulp.LpStatus[prob.status])"
      ]
    },
    {
      "cell_type": "code",
      "execution_count": null,
      "metadata": {
        "id": "_je-hPiT7FeC",
        "outputId": "5c19e459-8324-4627-be83-c91b37489c46"
      },
      "outputs": [],
      "source": [
        "def graficar_escenario(X=None):\n",
        "    \"\"\"\n",
        "    Función para representar la ciudad, sus estaciones y conexiones.\n",
        "    X: matriz de variables de decisión (opcional)\n",
        "    \"\"\"\n",
        "\n",
        "    fig, ax = plt.subplots(figsize=(8, 8))\n",
        "\n",
        "    # Crear una cuadrícula de 10x10\n",
        "    ax.set_xticks(np.arange(0, N, 1))\n",
        "    ax.set_yticks(np.arange(0, N, 1))\n",
        "    ax.set_xticklabels([])\n",
        "    ax.set_yticklabels([])\n",
        "    ax.grid(True, which='both', color = \"lightgray\")\n",
        "\n",
        "    for i in range(N):\n",
        "        for j in range(N):\n",
        "            if E[i, j] == 1:\n",
        "                if I[i, j] == 1:  # Si es una estación especial (estrella)\n",
        "                    if R[i, j] == 0:\n",
        "                        ax.plot(j, N-i-1, '*', color=\"#00B4A0\", markersize=12, markeredgewidth=2)\n",
        "                    else:\n",
        "                      ax.plot(j, N-i-1, '*', color=\"#0000DC\", markersize=12, markeredgewidth=2)\n",
        "                else:  # Si es una estación normal\n",
        "                    if (i,j) == estacion_central:\n",
        "                            markeredgewidth = 2.5\n",
        "                            type = 'D'\n",
        "                    else:\n",
        "                            markeredgewidth = 1\n",
        "                            type = 'o'\n",
        "                    # Verificar la mitad del río usando la matriz R\n",
        "                    if R[i, j] == 0:\n",
        "                        ax.plot(j, N-i-1, type, color=\"#00B4A0\", markersize = 10, markerfacecolor='none', markeredgewidth=markeredgewidth)\n",
        "                    else:\n",
        "                        ax.plot(j, N-i-1, type, color= \"#0000DC\", markersize = 10, markerfacecolor='none')\n",
        "            else:  # Si no es una estación\n",
        "                ax.plot(j, N-i-1, 'o', color='gray', markersize=3)\n",
        "\n",
        "    # Líneas de separación entre distritos\n",
        "    for i in [3,7]:\n",
        "        ax.axhline(y=i-0.5, color='#FFDD44', linestyle = '--', linewidth=1)\n",
        "        ax.axvline(x=i-0.5, color='#FFDD44',linestyle = '--',  linewidth=1)\n",
        "\n",
        "    ax.plot([0.5, 0.5],[-0.5,0.5], color='#FFDD44', linestyle='--', linewidth=1)\n",
        "    ax.plot([-0.5,0.5],[0.5, 0.5], color='#FFDD44', linestyle='--', linewidth=1)\n",
        "\n",
        "    ax.plot([9.5, 8.5],[0.5,0.5], color='#FFDD44', linestyle='--', linewidth=1)\n",
        "    ax.plot([8.5,8.5],[-0.5, 0.5], color='#FFDD44', linestyle='--', linewidth=1)\n",
        "\n",
        "    ax.plot([0.5, 0.5],[8.5,9.5], color='#FFDD44', linestyle='--', linewidth=1)\n",
        "    ax.plot([-0.5,0.5],[8.5, 8.5], color='#FFDD44', linestyle='--', linewidth=1)\n",
        "\n",
        "    ax.plot([9.5, 8.5],[8.5,8.5], color='#FFDD44', linestyle='--', linewidth=1)\n",
        "    ax.plot([8.5, 8.5],[8.5,9.5], color='#FFDD44', linestyle='--', linewidth=1)\n",
        "\n",
        "    if(X is not None):\n",
        "      colors = [plt.cm.tab10(i) for i in range(1,M+1)]\n",
        "      for m in range(M):\n",
        "          for i in range (N):\n",
        "            for j in range (N):\n",
        "              for k in range (N):\n",
        "                for l in range (N):\n",
        "                  if X[i,j,k,l,m]==1:\n",
        "                      ax.plot([j,l], [N-i-1,N-k-1], color=colors[m], linewidth=2)\n",
        "\n",
        "    # Ajustar límites\n",
        "    ax.set_xlim(-0.5, N-0.5)\n",
        "    ax.set_ylim(-0.5, N-0.5)\n",
        "\n",
        "    # Mostrar el gráfico\n",
        "    plt.gca().set_aspect('equal', adjustable='box')\n",
        "    plt.show()\n",
        "    plt.close(fig)"
      ]
    },
    {
      "cell_type": "code",
      "execution_count": null,
      "metadata": {},
      "outputs": [],
      "source": [
        "# Graficar escenario base\n",
        "graficar_escenario(X=None)"
      ]
    },
    {
      "cell_type": "code",
      "execution_count": null,
      "metadata": {
        "id": "FX8968Xc7FeD",
        "outputId": "33a55d08-16c7-4716-aaeb-0a84289f5d66"
      },
      "outputs": [],
      "source": [
        "# Generar matriz final de variables de tipo X para graficar el resultado\n",
        "\n",
        "matriz_resultado = np.zeros((N, N, N, N, M), dtype=int)\n",
        "for var in prob.variables():\n",
        "    if var.name.startswith(\"X_\") and var.varValue == 1:\n",
        "        match = re.match(r\"X_(\\d+)_(\\d+)_(\\d+)_(\\d+)_(\\d+)\", var.name)\n",
        "        if match:\n",
        "            i, j, k, l, m = map(int, match.groups())\n",
        "            matriz_resultado[i, j, k, l, m] = 1\n",
        "\n",
        "graficar_escenario(X=matriz_resultado)"
      ]
    },
    {
      "cell_type": "code",
      "execution_count": null,
      "metadata": {
        "id": "OXr39mC07FeD",
        "outputId": "821fd528-24f2-4b04-a77d-660602e8c8cb"
      },
      "outputs": [],
      "source": [
        "# Imprimir el número de estaciones importantes visitadas\n",
        "n_est_imp_visitadas_min = sum([I[i,j] * x[indice_en_x[f\"Z_{i}_{j}\"]].varValue for i,j in estaciones])\n",
        "print(\"Número de estaciones importantes visitadas: \", n_est_imp_visitadas_min)\n",
        "\n",
        "# Imprimir la distancia total recorrida\n",
        "dist_total_min = sum([DIST[i,j,k,l] * x[indice_en_x[f\"X_{i}_{j}_{k}_{l}_{m}\"]].varValue for i,j,k,l in conexiones_validas for m in range(M)])\n",
        "print(\"Distancia mínima total recorrida: \", dist_total_min)\n",
        "\n",
        "# Se puede evitar este último cálculo y usar el valor de la función objetivo: \n",
        "# dist_total = pulp.value(prob.objective). Efectivamente, \n",
        "print(dist_total_min == pulp.value(prob.objective))\n",
        "\n",
        "\n"
      ]
    },
    {
      "cell_type": "markdown",
      "metadata": {},
      "source": [
        "### MAXIMIZACIÓN DE ESTACIONES ESPECIALES VISITADAS ###"
      ]
    },
    {
      "cell_type": "code",
      "execution_count": null,
      "metadata": {
        "id": "ynyjJcXZ7FeD"
      },
      "outputs": [],
      "source": [
        "# === 3. Crear el modelo ===\n",
        "prob = pulp.LpProblem(\"Optimización_MILP\", pulp.LpMinimize)\n",
        "\n",
        "# === 4. Definir la función objetivo ===\n",
        "prob += - pulp.lpSum( I[i,j] * x[indice_en_x[f\"Z_{i}_{j}\"]] for i, j in estaciones)\n",
        "\n",
        "# === 5. Especificar las restricciones ===\n",
        "for idx in range(A_leq.shape[0]):\n",
        "    fila = A_leq.getrow(idx)\n",
        "    prob += pulp.lpSum(fila.data[k] * x[int(fila.indices[k])] for k in range(len(fila.indices))) <= b_leq[idx]\n",
        "\n",
        "for idx in range(A_eq.shape[0]):\n",
        "    fila = A_eq.getrow(idx)\n",
        "    prob += pulp.lpSum(fila.data[k] * x[int(fila.indices[k])] for k in range(len(fila.indices))) == b_eq[idx]\n",
        "\n",
        "# === 6. Resolver ===\n",
        "prob.solve()\n",
        "\n",
        "# === 7. Obtener resultados ===\n",
        "if pulp.LpStatus[prob.status] == 'Optimal':\n",
        "    print(\"Solución óptima encontrada:\")\n",
        "    for var in prob.variables():\n",
        "        if var.varValue > 0:\n",
        "            print(f\"{var.name} = {var.varValue}\")  \n",
        "    print(\"\\n Valor objetivo:\", pulp.value(prob.objective))\n",
        "else:\n",
        "    print(\"No se encontró solución:\", pulp.LpStatus[prob.status])\n"
      ]
    },
    {
      "cell_type": "code",
      "execution_count": null,
      "metadata": {
        "id": "M_13RbZD7FeD"
      },
      "outputs": [],
      "source": [
        "matriz_resultado = np.zeros((N, N, N, N, M), dtype=int)\n",
        "for var in prob.variables():\n",
        "    if var.name.startswith(\"X_\") and var.varValue == 1:\n",
        "        match = re.match(r\"X_(\\d+)_(\\d+)_(\\d+)_(\\d+)_(\\d+)\", var.name)\n",
        "        if match:\n",
        "            i, j, k, l, m = map(int, match.groups())\n",
        "            matriz_resultado[i, j, k, l, m] = 1\n",
        "\n",
        "graficar_escenario(X=matriz_resultado)"
      ]
    },
    {
      "cell_type": "code",
      "execution_count": null,
      "metadata": {
        "id": "kny9TyMK7FeD"
      },
      "outputs": [],
      "source": [
        "# Imprimir el número de estaciones importantes visitadas\n",
        "n_est_imp_visitadas_max = sum([I[i,j] * x[indice_en_x[f\"Z_{i}_{j}\"]].varValue for i,j in estaciones])\n",
        "print(\"Número de estaciones importantes visitadas: \", n_est_imp_visitadas_max)\n",
        "# También se puede evitar cálculo y usar el valor de la función objetivo: \n",
        "# n_est_imp_visitadas = - pulp.value(prob.objective)\n",
        "\n",
        "# Imprimir la distancia total recorrida\n",
        "dist_total_max = sum([DIST[i,j,k,l] * x[indice_en_x[f\"X_{i}_{j}_{k}_{l}_{m}\"]].varValue for i,j,k,l in conexiones_validas for m in range(M)])\n",
        "print(\"Distancia mínima total recorrida: \", dist_total_max)"
      ]
    },
    {
      "cell_type": "markdown",
      "metadata": {},
      "source": [
        "#### MINIMIZACIÓN DE LONGITUD DE VÍAS VISITANDO EL MÁXIMO NÚMERO DE ESTACIONES ESPECIALES ###"
      ]
    },
    {
      "cell_type": "code",
      "execution_count": null,
      "metadata": {},
      "outputs": [],
      "source": [
        "min_estaciones_especiales = 9\n",
        "\n",
        "rows6, b6 = r6()\n",
        "\n",
        "A_leq = vstack([rows1, rows2, rows3, rows4, rows5, rows6, rows7, rows8, rows9, rows10, rows11, rows14, rows18, rows19, rows20], format='csr')\n",
        "b_leq = np.hstack([b1, b2, b3, b4, b5, b6, b7, b8, b9, b10, b11, b14, b18, b19, b20])"
      ]
    },
    {
      "cell_type": "code",
      "execution_count": null,
      "metadata": {},
      "outputs": [],
      "source": [
        "# === 3. Crear el modelo ===\n",
        "prob = pulp.LpProblem(\"Optimización_MILP\", pulp.LpMinimize)\n",
        "\n",
        "# === 4. Definir la función objetivo ===\n",
        "prob += pulp.lpSum(DIST[i, j, k, l] * x[indice_en_x[f\"X_{i}_{j}_{k}_{l}_{m}\"]] for i, j, k, l in conexiones_validas for m in range(M))\n",
        "\n",
        "# === 5. Especificar las restricciones ===\n",
        "for idx in range(A_leq.shape[0]):\n",
        "    fila = A_leq.getrow(idx)\n",
        "    prob += pulp.lpSum(fila.data[k] * x[int(fila.indices[k])] for k in range(len(fila.indices))) <= b_leq[idx]\n",
        "\n",
        "for idx in range(A_eq.shape[0]):\n",
        "    fila = A_eq.getrow(idx)\n",
        "    prob += pulp.lpSum(fila.data[k] * x[int(fila.indices[k])] for k in range(len(fila.indices))) == b_eq[idx]\n",
        "\n",
        "# === 6. Resolver ===\n",
        "prob.solve()\n",
        "\n",
        "# === 7. Obtener resultados ===\n",
        "if pulp.LpStatus[prob.status] == 'Optimal':\n",
        "    print(\"Solución óptima encontrada:\")\n",
        "    for var in prob.variables():\n",
        "        if var.varValue > 0:\n",
        "            print(f\"{var.name} = {var.varValue}\")  \n",
        "    print(\"\\n Valor objetivo:\", pulp.value(prob.objective))\n",
        "else:\n",
        "    print(\"No se encontró solución:\", pulp.LpStatus[prob.status])"
      ]
    },
    {
      "cell_type": "code",
      "execution_count": null,
      "metadata": {},
      "outputs": [],
      "source": [
        "matriz_resultado = np.zeros((N, N, N, N, M), dtype=int)\n",
        "for var in prob.variables():\n",
        "    if var.name.startswith(\"X_\") and var.varValue == 1:\n",
        "        match = re.match(r\"X_(\\d+)_(\\d+)_(\\d+)_(\\d+)_(\\d+)\", var.name)\n",
        "        if match:\n",
        "            i, j, k, l, m = map(int, match.groups())\n",
        "            matriz_resultado[i, j, k, l, m] = 1\n",
        "\n",
        "graficar_escenario(X=matriz_resultado)"
      ]
    },
    {
      "cell_type": "code",
      "execution_count": null,
      "metadata": {},
      "outputs": [],
      "source": [
        "# Imprimir el número de estaciones importantes visitadas\n",
        "n_est_imp_visitadas_max = sum([I[i,j] * x[indice_en_x[f\"Z_{i}_{j}\"]].varValue for i,j in estaciones])\n",
        "print(\"Número de estaciones importantes visitadas: \", n_est_imp_visitadas_max)\n",
        "\n",
        "# Imprimir la distancia total recorrida\n",
        "dist_total_max = sum([DIST[i,j,k,l] * x[indice_en_x[f\"X_{i}_{j}_{k}_{l}_{m}\"]].varValue for i,j,k,l in conexiones_validas for m in range(M)])\n",
        "print(\"Distancia mínima total recorrida: \", dist_total_max)"
      ]
    },
    {
      "cell_type": "markdown",
      "metadata": {
        "id": "0NpoX4KT7FeD"
      },
      "source": [
        "### SOLUCIONES INTERMEDIAS: MINIMIZACIÓN DE LONGITUD DE VÍAS IMPONIENDO MÍNIMOS DE ESTACIONES ESPECIALES VISITADAS ###"
      ]
    },
    {
      "cell_type": "code",
      "execution_count": null,
      "metadata": {
        "id": "-Tj57cyN7FeD"
      },
      "outputs": [],
      "source": [
        "n_est_imp_visitadas_list = []\n",
        "dist_total_list = []\n",
        "\n",
        "for min_est_esp in range(5, 9):\n",
        "\n",
        "    min_estaciones_especiales = min_est_esp\n",
        "\n",
        "    rows6, b6 = r6()\n",
        "\n",
        "    A_leq = vstack([rows1, rows2, rows3, rows4, rows5, rows6, rows7, rows8, rows9, rows10, rows11, rows14, rows18, rows19, rows20], format='csr')\n",
        "    b_leq = np.hstack([b1, b2, b3, b4, b5, b6, b7, b8, b9, b10, b11, b14, b18, b19, b20])\n",
        "\n",
        "    # === 3. Crear el modelo ===\n",
        "    prob = pulp.LpProblem(\"Optimización_MILP\", pulp.LpMinimize)\n",
        "\n",
        "    # === 4. Definir la función objetivo ===\n",
        "    prob += pulp.lpSum(DIST[i, j, k, l] * x[indice_en_x[f\"X_{i}_{j}_{k}_{l}_{m}\"]] for i, j, k, l in conexiones_validas for m in range(M))\n",
        "\n",
        "    # === 5. Especificar las restricciones ===\n",
        "    for idx in range(A_leq.shape[0]):\n",
        "        fila = A_leq.getrow(idx)\n",
        "        prob += pulp.lpSum(fila.data[k] * x[int(fila.indices[k])] for k in range(len(fila.indices))) <= b_leq[idx]\n",
        "\n",
        "    for idx in range(A_eq.shape[0]):\n",
        "        fila = A_eq.getrow(idx)\n",
        "        prob += pulp.lpSum(fila.data[k] * x[int(fila.indices[k])] for k in range(len(fila.indices))) == b_eq[idx]\n",
        "\n",
        "    # === 6. Resolver ===\n",
        "    prob.solve()\n",
        "\n",
        "    # === 7. Obtener resultados ===\n",
        "    if pulp.LpStatus[prob.status] == 'Optimal':\n",
        "        print(\"Solución óptima encontrada:\")\n",
        "        for var in prob.variables():\n",
        "            if var.varValue > 0:\n",
        "                print(f\"{var.name} = {var.varValue}\")  \n",
        "        print(\"\\n Valor objetivo:\", pulp.value(prob.objective))\n",
        "    else:\n",
        "        print(\"No se encontró solución:\", pulp.LpStatus[prob.status])\n",
        "\n",
        "\n",
        "    matriz_resultado = np.zeros((N, N, N, N, M), dtype=int)\n",
        "    for var in prob.variables():\n",
        "        if var.name.startswith(\"X_\") and var.varValue == 1:\n",
        "            match = re.match(r\"X_(\\d+)_(\\d+)_(\\d+)_(\\d+)_(\\d+)\", var.name)\n",
        "            if match:\n",
        "                i, j, k, l, m = map(int, match.groups())\n",
        "                matriz_resultado[i, j, k, l, m] = 1\n",
        "\n",
        "    graficar_escenario(X=matriz_resultado)\n",
        "\n",
        "\n",
        "    # Imprimir el número de estaciones importantes visitadas\n",
        "    n_est_imp_visitadas = sum([I[i,j] * x[indice_en_x[f\"Z_{i}_{j}\"]].varValue for i,j in estaciones])\n",
        "    print(\"Número de estaciones importantes visitadas: \", n_est_imp_visitadas)\n",
        "    n_est_imp_visitadas_list.append(n_est_imp_visitadas)\n",
        "\n",
        "    # Imprimir la distancia total recorrida\n",
        "    dist_total = sum([DIST[i,j,k,l] * x[indice_en_x[f\"X_{i}_{j}_{k}_{l}_{m}\"]].varValue for i,j,k,l in conexiones_validas for m in range(M)])\n",
        "    print(\"Distancia mínima total recorrida: \", dist_total)\n",
        "    dist_total_list.append(dist_total)\n"
      ]
    },
    {
      "cell_type": "markdown",
      "metadata": {},
      "source": [
        "# **FRONTERA DE PARETO** "
      ]
    },
    {
      "cell_type": "markdown",
      "metadata": {},
      "source": [
        "#### LONGITUD DE VÍA FRENTE A NÚMERO DE ESTACIONES ESPECIALES ####"
      ]
    },
    {
      "cell_type": "code",
      "execution_count": null,
      "metadata": {},
      "outputs": [],
      "source": [
        "# Valores objetivo\n",
        "x = [n_est_imp_visitadas_min] + n_est_imp_visitadas_list + [n_est_imp_visitadas_max]\n",
        "y = [dist_total_min] + dist_total_list + [dist_total_max]\n",
        "\n",
        "# Crear la gráfica\n",
        "plt.figure(figsize=(8, 6))\n",
        "plt.plot(x, y, color='violet', linestyle='-', linewidth=2,zorder=1)  # Línea de Pareto\n",
        "plt.scatter(x, y, color='#c71585', s=100, zorder=2)  # Puntos de Pareto\n",
        "\n",
        "# Títulos y etiquetas\n",
        "plt.title('Frontera de Pareto')\n",
        "plt.xlabel('Nº estaciones especiales')\n",
        "plt.ylabel('Longitud de vía (km)')\n",
        "\n",
        "# Mostrar\n",
        "plt.grid(True)\n",
        "plt.tight_layout()\n",
        "plt.show()\n"
      ]
    },
    {
      "cell_type": "markdown",
      "metadata": {},
      "source": [
        "#### COSTE FRENTE A NÚMERO DE ESTACIONES ESPECIALES ####"
      ]
    },
    {
      "cell_type": "code",
      "execution_count": null,
      "metadata": {},
      "outputs": [],
      "source": [
        "# Conversión (82 millones por km de vía)\n",
        "y_cost = [valor * 82 for valor in y]\n",
        "\n",
        "# Crear la gráfica\n",
        "plt.figure(figsize=(8, 6))\n",
        "plt.plot(x, y_cost, color='cornflowerblue', linestyle='-', linewidth=2, zorder=1)  # Línea azul clara\n",
        "plt.scatter(x, y_cost, color='midnightblue', s=100, zorder=2)  # Puntos azul oscuro\n",
        "\n",
        "\n",
        "# Títulos y etiquetas\n",
        "plt.title('Frontera de Pareto')\n",
        "plt.xlabel('Nº estaciones especiales')\n",
        "plt.ylabel('Coste estimado (millones de €)')\n",
        "\n",
        "#  Mostrar\n",
        "plt.grid(True)\n",
        "plt.tick_params()\n",
        "plt.tight_layout()\n",
        "plt.show()"
      ]
    }
  ],
  "metadata": {
    "colab": {
      "provenance": []
    },
    "kernelspec": {
      "display_name": "Python 3",
      "language": "python",
      "name": "python3"
    },
    "language_info": {
      "codemirror_mode": {
        "name": "ipython",
        "version": 3
      },
      "file_extension": ".py",
      "mimetype": "text/x-python",
      "name": "python",
      "nbconvert_exporter": "python",
      "pygments_lexer": "ipython3",
      "version": "3.12.9"
    }
  },
  "nbformat": 4,
  "nbformat_minor": 0
}
